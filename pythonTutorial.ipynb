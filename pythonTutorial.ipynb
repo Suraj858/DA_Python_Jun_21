{
  "nbformat": 4,
  "nbformat_minor": 0,
  "metadata": {
    "colab": {
      "name": "Copy of pythonTutorial.ipynb",
      "provenance": [],
      "collapsed_sections": [
        "O9GeRJwZyHQm",
        "kkTiLanpygZU",
        "cDHerArdzwCL",
        "r5p-vEtL23Sd",
        "Nmkfq25h6U3P",
        "TXuxV0LEOP_1",
        "fVBtglDY9fkb",
        "FSETwd0g_rtG",
        "YqxDz068CKgT",
        "SNP3aJr01Kp2",
        "y4bOZtoc1Vw5",
        "3kG-GkgW1-aA",
        "y4zz5a-bFaoq",
        "3iMlB2AG2DkX",
        "Dv25RjLNRHGk",
        "Rn-fgFWXRUUE",
        "Lcr-OUfAA6GE",
        "8X0JZFUVBQnp",
        "jQoqf7EBEILq",
        "RqhcYJ_eFMr0",
        "f3Wtg_J5FzRI",
        "Ek36tMMBHz3z",
        "iobFUp4wNkXP",
        "GkcV1JzsRXRB",
        "JN74drlhSn7G",
        "bogO-q7-VMIZ",
        "ld9N2uf-XIsy",
        "r2EtcYY2YStH",
        "6veFQfJPbCai",
        "FRgtaFMWpoF7",
        "DA2jaJeyxkQN"
      ],
      "include_colab_link": true
    },
    "kernelspec": {
      "display_name": "Python 3",
      "language": "python",
      "name": "python3"
    },
    "language_info": {
      "codemirror_mode": {
        "name": "ipython",
        "version": 3
      },
      "file_extension": ".py",
      "mimetype": "text/x-python",
      "name": "python",
      "nbconvert_exporter": "python",
      "pygments_lexer": "ipython3",
      "version": "3.8.3"
    }
  },
  "cells": [
    {
      "cell_type": "markdown",
      "metadata": {
        "id": "view-in-github",
        "colab_type": "text"
      },
      "source": [
        "<a href=\"https://colab.research.google.com/github/Suraj858/DA_Python_Jun_21/blob/main/pythonTutorial.ipynb\" target=\"_parent\"><img src=\"https://colab.research.google.com/assets/colab-badge.svg\" alt=\"Open In Colab\"/></a>"
      ]
    },
    {
      "cell_type": "markdown",
      "metadata": {
        "id": "O9GeRJwZyHQm"
      },
      "source": [
        "# An Informal Introduction to Python\n",
        "\n",
        "Python is an interpreted high-level general-purpose programming language. Python's design philosophy emphasizes code readability with its notable use of significant indentation.\n",
        "\n",
        "Python is a programming language that lets you work quickly\n",
        "and integrate systems more effectively.\n",
        "\n",
        "Source: [python.org](https://www.python.org/), [wikipedia](https://en.wikipedia.org/wiki/Python_(programming_language)\n",
        "\n",
        "Docs: [docs.python.org](https://docs.python.org/3/)\n",
        "\n",
        "**The Python standard library contains well over 200 modules, although the exact number varies between distributions.  Over 235,000 Python packages can be accessed through PyPI ([Python Package Index](https://pypi.org/)). [[Source](https://en.wikipedia.org/wiki/Python_Package_Index#:~:text=Over%20235%2C000%20Python%20packages%20can%20be%20accessed%20through%20PyPI.)]**"
      ]
    },
    {
      "cell_type": "code",
      "metadata": {
        "id": "kWD4OpvaxIOp"
      },
      "source": [
        "# this is the first comment\n",
        "spam = 1  # and this is the second comment\n",
        "          # ... and now a third!\n",
        "text = \"# This is not a comment because it's inside quotes.\""
      ],
      "execution_count": null,
      "outputs": []
    },
    {
      "cell_type": "markdown",
      "metadata": {
        "id": "kkTiLanpygZU"
      },
      "source": [
        "#1. [Using Python as a Calculator](https://docs.python.org/3.6/tutorial/introduction.html#using-python-as-a-calculator)\n",
        "\n",
        "The interpreter acts as a simple calculator: you can type an expression at it and it will write the value. Expression syntax is straightforward: the operators +, -, * and / work just like in most other languages (for example, Pascal or C); parentheses (()) can be used for grouping. For example:"
      ]
    },
    {
      "cell_type": "code",
      "metadata": {
        "colab": {
          "base_uri": "https://localhost:8080/",
          "height": 34
        },
        "id": "HWPVnHBmyac2",
        "outputId": "cd33e46d-58c5-49df-f355-1cb4b23a47c1"
      },
      "source": [
        "# BODMAS stands for Bracket, Of, Division, Multiplication, Addition, and Subtraction\n",
        "(50 - 5*6) / 4 # execute according to bodmas rule"
      ],
      "execution_count": null,
      "outputs": [
        {
          "output_type": "execute_result",
          "data": {
            "text/plain": [
              "5.0"
            ]
          },
          "metadata": {
            "tags": []
          },
          "execution_count": 149
        }
      ]
    },
    {
      "cell_type": "code",
      "metadata": {
        "colab": {
          "base_uri": "https://localhost:8080/",
          "height": 34
        },
        "id": "mYFTt6Poy2td",
        "outputId": "35d405ed-2aef-409d-9f60-986fdd50ee06"
      },
      "source": [
        "8 / 5  # division always returns a floating point number"
      ],
      "execution_count": null,
      "outputs": [
        {
          "output_type": "execute_result",
          "data": {
            "text/plain": [
              "1.6"
            ]
          },
          "metadata": {
            "tags": []
          },
          "execution_count": 150
        }
      ]
    },
    {
      "cell_type": "code",
      "metadata": {
        "colab": {
          "base_uri": "https://localhost:8080/",
          "height": 34
        },
        "id": "14yRJHhzzX3x",
        "outputId": "47b21ba3-5b9c-4182-bca7-b8cd327fc2f3"
      },
      "source": [
        "17 / 3  # classic division returns a float"
      ],
      "execution_count": null,
      "outputs": [
        {
          "output_type": "execute_result",
          "data": {
            "text/plain": [
              "5.666666666666667"
            ]
          },
          "metadata": {
            "tags": []
          },
          "execution_count": 151
        }
      ]
    },
    {
      "cell_type": "code",
      "metadata": {
        "colab": {
          "base_uri": "https://localhost:8080/",
          "height": 34
        },
        "id": "FaNKDlj3zcjj",
        "outputId": "f86e0a5a-b219-422d-ba31-59bfa51ddb67"
      },
      "source": [
        "17 // 3  # floor division discards the fractional part"
      ],
      "execution_count": null,
      "outputs": [
        {
          "output_type": "execute_result",
          "data": {
            "text/plain": [
              "5"
            ]
          },
          "metadata": {
            "tags": []
          },
          "execution_count": 152
        }
      ]
    },
    {
      "cell_type": "code",
      "metadata": {
        "colab": {
          "base_uri": "https://localhost:8080/",
          "height": 34
        },
        "id": "iOygcYp-zfgs",
        "outputId": "1f5cf3e1-2843-4bd5-b39b-d8aafbde5447"
      },
      "source": [
        "17 % 3  # the % operator returns the remainder of the division"
      ],
      "execution_count": null,
      "outputs": [
        {
          "output_type": "execute_result",
          "data": {
            "text/plain": [
              "2"
            ]
          },
          "metadata": {
            "tags": []
          },
          "execution_count": 153
        }
      ]
    },
    {
      "cell_type": "code",
      "metadata": {
        "colab": {
          "base_uri": "https://localhost:8080/",
          "height": 34
        },
        "id": "n61_p6oVzlYx",
        "outputId": "86adfe03-6875-4703-b088-beacc7bea07e"
      },
      "source": [
        "2 ** 7  # 2 to the power of 7"
      ],
      "execution_count": null,
      "outputs": [
        {
          "output_type": "execute_result",
          "data": {
            "text/plain": [
              "128"
            ]
          },
          "metadata": {
            "tags": []
          },
          "execution_count": 154
        }
      ]
    },
    {
      "cell_type": "markdown",
      "metadata": {
        "id": "cDHerArdzwCL"
      },
      "source": [
        "### Assigning value to variable\n",
        "\n",
        "The **equal sign (=)** is used to assign a value to a variable. Afterwards, no result is displayed before the next interactive prompt:"
      ]
    },
    {
      "cell_type": "code",
      "metadata": {
        "colab": {
          "base_uri": "https://localhost:8080/",
          "height": 34
        },
        "id": "hOO9B1mbzpGl",
        "outputId": "3f095845-8486-4a28-8868-0b981d96dd66"
      },
      "source": [
        "width = 20\n",
        "height = 5 * 9\n",
        "width * height  # 20*(5*9)"
      ],
      "execution_count": null,
      "outputs": [
        {
          "output_type": "execute_result",
          "data": {
            "text/plain": [
              "900"
            ]
          },
          "metadata": {
            "tags": []
          },
          "execution_count": 155
        }
      ]
    },
    {
      "cell_type": "markdown",
      "metadata": {
        "id": "pOP47MA_0P9v"
      },
      "source": [
        "In **interactive mode**, the last printed expression is assigned to the variable _. This means that when you are using Python as a desk calculator, it is somewhat easier to continue calculations, for example:"
      ]
    },
    {
      "cell_type": "code",
      "metadata": {
        "colab": {
          "base_uri": "https://localhost:8080/",
          "height": 34
        },
        "id": "1Qs87KdlzrDG",
        "outputId": "75c4f039-7d61-4598-9698-cc13053c4a66"
      },
      "source": [
        "tax = 12.5 / 100\n",
        "price = 100.50\n",
        "price * tax"
      ],
      "execution_count": null,
      "outputs": [
        {
          "output_type": "execute_result",
          "data": {
            "text/plain": [
              "12.5625"
            ]
          },
          "metadata": {
            "tags": []
          },
          "execution_count": 156
        }
      ]
    },
    {
      "cell_type": "code",
      "metadata": {
        "colab": {
          "base_uri": "https://localhost:8080/",
          "height": 34
        },
        "id": "gNT7uCey0Yv7",
        "outputId": "4faaa394-1185-4e89-885d-6d4c1f6b060a"
      },
      "source": [
        "price + _"
      ],
      "execution_count": null,
      "outputs": [
        {
          "output_type": "execute_result",
          "data": {
            "text/plain": [
              "113.0625"
            ]
          },
          "metadata": {
            "tags": []
          },
          "execution_count": 157
        }
      ]
    },
    {
      "cell_type": "code",
      "metadata": {
        "colab": {
          "base_uri": "https://localhost:8080/",
          "height": 34
        },
        "id": "moDCwdBs0cdy",
        "outputId": "33aeba32-1c7b-4bcc-fb85-857ab3308334"
      },
      "source": [
        "round(_, 2)"
      ],
      "execution_count": null,
      "outputs": [
        {
          "output_type": "execute_result",
          "data": {
            "text/plain": [
              "113.06"
            ]
          },
          "metadata": {
            "tags": []
          },
          "execution_count": 158
        }
      ]
    },
    {
      "cell_type": "markdown",
      "metadata": {
        "id": "Nmkfq25h6U3P"
      },
      "source": [
        "### Floating Point Arithmetic: Issues and Limitations !"
      ]
    },
    {
      "cell_type": "code",
      "metadata": {
        "colab": {
          "base_uri": "https://localhost:8080/",
          "height": 34
        },
        "id": "OpA4apjq6PVx",
        "outputId": "5613b754-6c86-4dbe-e791-5ed35805bf60"
      },
      "source": [
        ".1 + .1 + .1 == .3  # why ?????"
      ],
      "execution_count": null,
      "outputs": [
        {
          "output_type": "execute_result",
          "data": {
            "text/plain": [
              "False"
            ]
          },
          "metadata": {
            "tags": []
          },
          "execution_count": 174
        }
      ]
    },
    {
      "cell_type": "code",
      "metadata": {
        "colab": {
          "base_uri": "https://localhost:8080/",
          "height": 34
        },
        "id": "aWCUSgXp6wtq",
        "outputId": "13b0e1bc-d825-40de-f661-3a8368063535"
      },
      "source": [
        ".1 + .1 + .1 # Ops?"
      ],
      "execution_count": null,
      "outputs": [
        {
          "output_type": "execute_result",
          "data": {
            "text/plain": [
              "0.30000000000000004"
            ]
          },
          "metadata": {
            "tags": []
          },
          "execution_count": 175
        }
      ]
    },
    {
      "cell_type": "code",
      "metadata": {
        "colab": {
          "base_uri": "https://localhost:8080/",
          "height": 34
        },
        "id": "7-b71QuC7MiD",
        "outputId": "a00b5e1f-22a1-424a-a602-e084e61c7f34"
      },
      "source": [
        "round(.1, 1) + round(.1, 1) + round(.1, 1) == round(.3, 1)"
      ],
      "execution_count": null,
      "outputs": [
        {
          "output_type": "execute_result",
          "data": {
            "text/plain": [
              "False"
            ]
          },
          "metadata": {
            "tags": []
          },
          "execution_count": 176
        }
      ]
    },
    {
      "cell_type": "code",
      "metadata": {
        "colab": {
          "base_uri": "https://localhost:8080/",
          "height": 34
        },
        "id": "RARy-Y5O7OHa",
        "outputId": "fcb43273-6f32-47fc-f4ef-eb450cecf5fb"
      },
      "source": [
        "round(.1 + .1 + .1, 10) == round(.3, 10)"
      ],
      "execution_count": null,
      "outputs": [
        {
          "output_type": "execute_result",
          "data": {
            "text/plain": [
              "True"
            ]
          },
          "metadata": {
            "tags": []
          },
          "execution_count": 177
        }
      ]
    },
    {
      "cell_type": "code",
      "metadata": {
        "colab": {
          "base_uri": "https://localhost:8080/",
          "height": 54
        },
        "id": "0UKDQmcl7CCC",
        "outputId": "62b34ebd-e320-41d1-abdf-cde5094d5263"
      },
      "source": [
        "import sys\n",
        "sys.float_info"
      ],
      "execution_count": null,
      "outputs": [
        {
          "output_type": "execute_result",
          "data": {
            "text/plain": [
              "sys.float_info(max=1.7976931348623157e+308, max_exp=1024, max_10_exp=308, min=2.2250738585072014e-308, min_exp=-1021, min_10_exp=-307, dig=15, mant_dig=53, epsilon=2.220446049250313e-16, radix=2, rounds=1)"
            ]
          },
          "metadata": {
            "tags": []
          },
          "execution_count": 178
        }
      ]
    },
    {
      "cell_type": "code",
      "metadata": {
        "colab": {
          "base_uri": "https://localhost:8080/",
          "height": 34
        },
        "id": "Xhet28uK8PtQ",
        "outputId": "36cec6cf-bd1f-4a52-9554-cd68fd63a300"
      },
      "source": [
        "type(1.797693135e+308), 1.797693135e+308"
      ],
      "execution_count": null,
      "outputs": [
        {
          "output_type": "execute_result",
          "data": {
            "text/plain": [
              "(float, inf)"
            ]
          },
          "metadata": {
            "tags": []
          },
          "execution_count": 179
        }
      ]
    },
    {
      "cell_type": "markdown",
      "metadata": {
        "id": "TXuxV0LEOP_1"
      },
      "source": [
        "### Bool Data Type --\n"
      ]
    },
    {
      "cell_type": "code",
      "metadata": {
        "colab": {
          "base_uri": "https://localhost:8080/",
          "height": 34
        },
        "id": "BuKvP-snOY-b",
        "outputId": "b038d273-10af-40cd-bf05-175aa04b06c2"
      },
      "source": [
        "a = True\n",
        "type(a), a      # a comma forms a tuple"
      ],
      "execution_count": null,
      "outputs": [
        {
          "output_type": "execute_result",
          "data": {
            "text/plain": [
              "True"
            ]
          },
          "metadata": {
            "tags": []
          },
          "execution_count": 228
        }
      ]
    },
    {
      "cell_type": "code",
      "metadata": {
        "colab": {
          "base_uri": "https://localhost:8080/",
          "height": 34
        },
        "id": "mS3-YZFaOn1H",
        "outputId": "ae80cdc5-5b16-4641-d522-066e3e7f6dad"
      },
      "source": [
        "2 == 5      # logical operations always return bool type"
      ],
      "execution_count": null,
      "outputs": [
        {
          "output_type": "execute_result",
          "data": {
            "text/plain": [
              "False"
            ]
          },
          "metadata": {
            "tags": []
          },
          "execution_count": 229
        }
      ]
    },
    {
      "cell_type": "code",
      "metadata": {
        "colab": {
          "base_uri": "https://localhost:8080/"
        },
        "id": "nPx5lUjJpmnt",
        "outputId": "2e29e200-478d-434b-d4f4-15b9eb0b73b2"
      },
      "source": [
        "type(-4>-1)     # -4>-1  -> True :-> bool class"
      ],
      "execution_count": null,
      "outputs": [
        {
          "output_type": "execute_result",
          "data": {
            "text/plain": [
              "bool"
            ]
          },
          "metadata": {
            "tags": []
          },
          "execution_count": 10
        }
      ]
    },
    {
      "cell_type": "code",
      "metadata": {
        "colab": {
          "base_uri": "https://localhost:8080/"
        },
        "id": "T9ouVVClvHbH",
        "outputId": "a8778f48-55b6-45e8-af7f-6129beed35a0"
      },
      "source": [
        "all((5>9,7<9,1>-1))       # when all outputs are true -> true else false "
      ],
      "execution_count": null,
      "outputs": [
        {
          "output_type": "execute_result",
          "data": {
            "text/plain": [
              "False"
            ]
          },
          "metadata": {
            "tags": []
          },
          "execution_count": 13
        }
      ]
    },
    {
      "cell_type": "code",
      "metadata": {
        "colab": {
          "base_uri": "https://localhost:8080/"
        },
        "id": "F_f7zjACwXiW",
        "outputId": "b5983942-1536-4954-f988-5318f0c094ca"
      },
      "source": [
        "any([5>9,7<9,1>-1])       # Any output is true, return true"
      ],
      "execution_count": null,
      "outputs": [
        {
          "output_type": "execute_result",
          "data": {
            "text/plain": [
              "True"
            ]
          },
          "metadata": {
            "tags": []
          },
          "execution_count": 14
        }
      ]
    },
    {
      "cell_type": "markdown",
      "metadata": {
        "id": "fVBtglDY9fkb"
      },
      "source": [
        "#2. [Print Is A Function](https://docs.python.org/3.6/whatsnew/3.0.html#print-is-a-function)\n",
        "\n",
        "The print statement has been replaced with a **print()** function, with keyword arguments to replace most of the special syntax of the old print statement (PEP 3105)."
      ]
    },
    {
      "cell_type": "code",
      "metadata": {
        "colab": {
          "base_uri": "https://localhost:8080/",
          "height": 34
        },
        "id": "uQ5EJO0h-Ceq",
        "outputId": "aea01a2e-0c99-488a-fc00-820400521390"
      },
      "source": [
        "print()            # You must call the function!"
      ],
      "execution_count": null,
      "outputs": [
        {
          "output_type": "stream",
          "text": [
            "\n"
          ],
          "name": "stdout"
        }
      ]
    },
    {
      "cell_type": "code",
      "metadata": {
        "colab": {
          "base_uri": "https://localhost:8080/",
          "height": 34
        },
        "id": "95xHl4xa9Lod",
        "outputId": "8975a555-76a8-4845-fa29-a8c2851b2ad3"
      },
      "source": [
        "print(\"The answer is\", 2*2)"
      ],
      "execution_count": null,
      "outputs": [
        {
          "output_type": "stream",
          "text": [
            "The answer is 4\n"
          ],
          "name": "stdout"
        }
      ]
    },
    {
      "cell_type": "code",
      "metadata": {
        "colab": {
          "base_uri": "https://localhost:8080/"
        },
        "id": "gMR8oqYXyyuQ",
        "outputId": "53bbcbf6-71ef-4b4e-b335-0672ac17a3d0"
      },
      "source": [
        "# Long statements ---\n",
        "print(\"This is the first line of my text, \"\n",
        "\"which will be joined to a second. -> Way 1\")         # How ?\n",
        "\n",
        "print(\"This is the first line of my text, \" \\\n",
        "      \"which will be joined to a second. -> Way 2\")          # What the hell? - line continuation character"
      ],
      "execution_count": null,
      "outputs": [
        {
          "output_type": "stream",
          "text": [
            "This is the first line of my text, which will be joined to a second. -> Way 1\n",
            "This is the first line of my text, which will be joined to a second. - Way 2\n"
          ],
          "name": "stdout"
        }
      ]
    },
    {
      "cell_type": "code",
      "metadata": {
        "colab": {
          "base_uri": "https://localhost:8080/",
          "height": 35
        },
        "id": "LPJuWB7Pz0pS",
        "outputId": "cbea5362-6caa-4aa0-a286-ccd433508d6a"
      },
      "source": [
        "\"Py\" \"thon\"       # What? -> Strings (string concatenation)"
      ],
      "execution_count": null,
      "outputs": [
        {
          "output_type": "execute_result",
          "data": {
            "application/vnd.google.colaboratory.intrinsic+json": {
              "type": "string"
            },
            "text/plain": [
              "'Python'"
            ]
          },
          "metadata": {
            "tags": []
          },
          "execution_count": 21
        }
      ]
    },
    {
      "cell_type": "markdown",
      "metadata": {
        "id": "FSETwd0g_rtG"
      },
      "source": [
        "#3. [Strings](https://docs.python.org/3.6/tutorial/introduction.html#strings)\n",
        "\n",
        "Besides numbers, Python can also manipulate strings, which can be expressed in several ways. They can be enclosed in single quotes ('...') or double quotes (\"...\") with the same result. \\ can be used to escape quotes:"
      ]
    },
    {
      "cell_type": "code",
      "metadata": {
        "colab": {
          "base_uri": "https://localhost:8080/",
          "height": 35
        },
        "id": "m-EEXSjg__HT",
        "outputId": "08187810-eff6-47fa-f243-b3288f8e69f3"
      },
      "source": [
        "'spam eggs'  # single quotes"
      ],
      "execution_count": null,
      "outputs": [
        {
          "output_type": "execute_result",
          "data": {
            "application/vnd.google.colaboratory.intrinsic": {
              "type": "string"
            },
            "text/plain": [
              "'spam eggs'"
            ]
          },
          "metadata": {
            "tags": []
          },
          "execution_count": 186
        }
      ]
    },
    {
      "cell_type": "code",
      "metadata": {
        "colab": {
          "base_uri": "https://localhost:8080/",
          "height": 35
        },
        "id": "_Ra-7QjMAGL9",
        "outputId": "542b6f52-40d4-4193-9035-9f7d55c69c9b"
      },
      "source": [
        "'doesn\\'t'  # use \\' to escape the single quote..."
      ],
      "execution_count": null,
      "outputs": [
        {
          "output_type": "execute_result",
          "data": {
            "application/vnd.google.colaboratory.intrinsic": {
              "type": "string"
            },
            "text/plain": [
              "\"doesn't\""
            ]
          },
          "metadata": {
            "tags": []
          },
          "execution_count": 187
        }
      ]
    },
    {
      "cell_type": "code",
      "metadata": {
        "colab": {
          "base_uri": "https://localhost:8080/",
          "height": 35
        },
        "id": "uPTk9vUuAJlX",
        "outputId": "deec6585-c2f1-4167-93ff-bf8bf120cc44"
      },
      "source": [
        "\"doesn't\"  # ...or use double quotes instead"
      ],
      "execution_count": null,
      "outputs": [
        {
          "output_type": "execute_result",
          "data": {
            "application/vnd.google.colaboratory.intrinsic": {
              "type": "string"
            },
            "text/plain": [
              "\"doesn't\""
            ]
          },
          "metadata": {
            "tags": []
          },
          "execution_count": 188
        }
      ]
    },
    {
      "cell_type": "code",
      "metadata": {
        "colab": {
          "base_uri": "https://localhost:8080/",
          "height": 35
        },
        "id": "79Au_KfRANUP",
        "outputId": "6224bd49-6e9a-4804-8a4a-8aa5263f08ed"
      },
      "source": [
        "'\"Yes,\" they said.' # this way also .."
      ],
      "execution_count": null,
      "outputs": [
        {
          "output_type": "execute_result",
          "data": {
            "application/vnd.google.colaboratory.intrinsic": {
              "type": "string"
            },
            "text/plain": [
              "'\"Yes,\" they said.'"
            ]
          },
          "metadata": {
            "tags": []
          },
          "execution_count": 189
        }
      ]
    },
    {
      "cell_type": "code",
      "metadata": {
        "colab": {
          "base_uri": "https://localhost:8080/",
          "height": 35
        },
        "id": "QkY82eZUAQs2",
        "outputId": "636c9889-56b6-4002-93f1-6d6f2b8de306"
      },
      "source": [
        "'\"Isn\\'t,\" they said.'"
      ],
      "execution_count": null,
      "outputs": [
        {
          "output_type": "execute_result",
          "data": {
            "application/vnd.google.colaboratory.intrinsic": {
              "type": "string"
            },
            "text/plain": [
              "'\"Isn\\'t,\" they said.'"
            ]
          },
          "metadata": {
            "tags": []
          },
          "execution_count": 190
        }
      ]
    },
    {
      "cell_type": "code",
      "metadata": {
        "colab": {
          "base_uri": "https://localhost:8080/",
          "height": 52
        },
        "id": "yDPunNYGAXnd",
        "outputId": "c1e5b025-5ae7-4476-d636-9c7d581f79bc"
      },
      "source": [
        "print('\"Isn\\'t,\" they said.')\n",
        "s = 'First line.\\nSecond line.'  # \\n means newline\n",
        "s  # without print(), \\n is included in the output"
      ],
      "execution_count": null,
      "outputs": [
        {
          "output_type": "stream",
          "text": [
            "\"Isn't,\" they said.\n"
          ],
          "name": "stdout"
        },
        {
          "output_type": "execute_result",
          "data": {
            "application/vnd.google.colaboratory.intrinsic": {
              "type": "string"
            },
            "text/plain": [
              "'First line.\\nSecond line.'"
            ]
          },
          "metadata": {
            "tags": []
          },
          "execution_count": 191
        }
      ]
    },
    {
      "cell_type": "code",
      "metadata": {
        "colab": {
          "base_uri": "https://localhost:8080/",
          "height": 51
        },
        "id": "t14cPLFeAmRH",
        "outputId": "1a91caf3-1d3c-4803-eecb-559c308a5982"
      },
      "source": [
        "print(s)  # with print(), \\n produces a new line"
      ],
      "execution_count": null,
      "outputs": [
        {
          "output_type": "stream",
          "text": [
            "First line.\n",
            "Second line.\n"
          ],
          "name": "stdout"
        }
      ]
    },
    {
      "cell_type": "markdown",
      "metadata": {
        "id": "SoMa8nOAAum_"
      },
      "source": [
        "If you don’t want characters prefaced by \\ to be interpreted as special characters, you can use raw strings by adding an r before the first quote:"
      ]
    },
    {
      "cell_type": "code",
      "metadata": {
        "colab": {
          "base_uri": "https://localhost:8080/",
          "height": 68
        },
        "id": "L8GBh_EfAqA2",
        "outputId": "8355c58c-634a-4015-d97f-5bda0a52d28d"
      },
      "source": [
        "# Problem\n",
        "print('C:\\some\\name')  # here \\n means newline!\n",
        "# Solution\n",
        "print(r'C:\\some\\name')  # note the r before the quote"
      ],
      "execution_count": null,
      "outputs": [
        {
          "output_type": "stream",
          "text": [
            "C:\\some\n",
            "ame\n",
            "C:\\some\\name\n"
          ],
          "name": "stdout"
        }
      ]
    },
    {
      "cell_type": "code",
      "metadata": {
        "colab": {
          "base_uri": "https://localhost:8080/",
          "height": 52
        },
        "id": "XoPxX_DYA5f_",
        "outputId": "ab52c1b8-20f9-477c-c3dc-fece71e8fa28"
      },
      "source": [
        "special = \"\"\"\\\n",
        "Usage: thing [OPTIONS]\n",
        "     -h                        Display this usage message\n",
        "     -H hostname               Hostname to connect to\n",
        "\"\"\"\n",
        "special"
      ],
      "execution_count": null,
      "outputs": [
        {
          "output_type": "execute_result",
          "data": {
            "application/vnd.google.colaboratory.intrinsic": {
              "type": "string"
            },
            "text/plain": [
              "'Usage: thing [OPTIONS]\\n     -h                        Display this usage message\\n     -H hostname               Hostname to connect to\\n'"
            ]
          },
          "metadata": {
            "tags": []
          },
          "execution_count": 194
        }
      ]
    },
    {
      "cell_type": "code",
      "metadata": {
        "colab": {
          "base_uri": "https://localhost:8080/",
          "height": 86
        },
        "id": "xffJG1LCBEuP",
        "outputId": "2dde1358-435f-4894-8c1a-161e335d2afd"
      },
      "source": [
        "print(special) # magic happens..."
      ],
      "execution_count": null,
      "outputs": [
        {
          "output_type": "stream",
          "text": [
            "Usage: thing [OPTIONS]\n",
            "     -h                        Display this usage message\n",
            "     -H hostname               Hostname to connect to\n",
            "\n"
          ],
          "name": "stdout"
        }
      ]
    },
    {
      "cell_type": "code",
      "metadata": {
        "colab": {
          "base_uri": "https://localhost:8080/",
          "height": 35
        },
        "id": "FKneJFfpBbCe",
        "outputId": "43ed83e8-0213-4f6d-9f35-415899b546a1"
      },
      "source": [
        "3 * 'un' + 'ium'"
      ],
      "execution_count": null,
      "outputs": [
        {
          "output_type": "execute_result",
          "data": {
            "application/vnd.google.colaboratory.intrinsic": {
              "type": "string"
            },
            "text/plain": [
              "'unununium'"
            ]
          },
          "metadata": {
            "tags": []
          },
          "execution_count": 196
        }
      ]
    },
    {
      "cell_type": "code",
      "metadata": {
        "colab": {
          "base_uri": "https://localhost:8080/",
          "height": 35
        },
        "id": "n0nFuIX8BcWm",
        "outputId": "aac291d4-bfbd-45d0-a9ce-26c94121e8f3"
      },
      "source": [
        "text = ('Put several strings within parentheses '\n",
        "'to have them joined together.')\n",
        "text "
      ],
      "execution_count": null,
      "outputs": [
        {
          "output_type": "execute_result",
          "data": {
            "application/vnd.google.colaboratory.intrinsic": {
              "type": "string"
            },
            "text/plain": [
              "'Put several strings within parentheses to have them joined together.'"
            ]
          },
          "metadata": {
            "tags": []
          },
          "execution_count": 197
        }
      ]
    },
    {
      "cell_type": "code",
      "metadata": {
        "colab": {
          "base_uri": "https://localhost:8080/",
          "height": 35
        },
        "id": "Pe8w5kfOBlHr",
        "outputId": "35a43d64-fdd2-4c3d-a716-af7259a38969"
      },
      "source": [
        "prefix = 'Py'\n",
        "prefix + 'thon'     # string concatenation"
      ],
      "execution_count": null,
      "outputs": [
        {
          "output_type": "execute_result",
          "data": {
            "application/vnd.google.colaboratory.intrinsic": {
              "type": "string"
            },
            "text/plain": [
              "'Python'"
            ]
          },
          "metadata": {
            "tags": []
          },
          "execution_count": 198
        }
      ]
    },
    {
      "cell_type": "code",
      "metadata": {
        "colab": {
          "base_uri": "https://localhost:8080/",
          "height": 35
        },
        "id": "o0rNJ19H0jQD",
        "outputId": "905e810a-1ec6-459d-cb1b-c03585ab65ad"
      },
      "source": [
        "\"Magic \" \"happens\""
      ],
      "execution_count": null,
      "outputs": [
        {
          "output_type": "execute_result",
          "data": {
            "application/vnd.google.colaboratory.intrinsic+json": {
              "type": "string"
            },
            "text/plain": [
              "'Magic happens'"
            ]
          },
          "metadata": {
            "tags": []
          },
          "execution_count": 22
        }
      ]
    },
    {
      "cell_type": "markdown",
      "metadata": {
        "id": "YqxDz068CKgT"
      },
      "source": [
        "### **How string is stored in python ?**\n",
        "```\n",
        "+---+---+---+---+---+---+\n",
        "| P | y | t | h | o | n |\n",
        "+---+---+---+---+---+---+\n",
        "  0   1   2   3   4   5   \n",
        " -6  -5  -4  -3  -2  -1\n",
        "```"
      ]
    },
    {
      "cell_type": "code",
      "metadata": {
        "colab": {
          "base_uri": "https://localhost:8080/",
          "height": 35
        },
        "id": "WliVCeA9CvmX",
        "outputId": "d5620d7e-839c-4f6c-f21a-66b79bedda2c"
      },
      "source": [
        "word = 'Python'\n",
        "word[0]           # String indexing ! -> first character"
      ],
      "execution_count": null,
      "outputs": [
        {
          "output_type": "execute_result",
          "data": {
            "application/vnd.google.colaboratory.intrinsic+json": {
              "type": "string"
            },
            "text/plain": [
              "'P'"
            ]
          },
          "metadata": {
            "tags": []
          },
          "execution_count": 54
        }
      ]
    },
    {
      "cell_type": "markdown",
      "metadata": {
        "id": "SNP3aJr01Kp2"
      },
      "source": [
        "### String indexing"
      ]
    },
    {
      "cell_type": "code",
      "metadata": {
        "colab": {
          "base_uri": "https://localhost:8080/",
          "height": 35
        },
        "id": "U6zycGMNC3Ix",
        "outputId": "a0157d05-4e2d-45fa-a56f-1a58b1c43da1"
      },
      "source": [
        "word[5]  # character in position 5"
      ],
      "execution_count": null,
      "outputs": [
        {
          "output_type": "execute_result",
          "data": {
            "application/vnd.google.colaboratory.intrinsic+json": {
              "type": "string"
            },
            "text/plain": [
              "'n'"
            ]
          },
          "metadata": {
            "tags": []
          },
          "execution_count": 55
        }
      ]
    },
    {
      "cell_type": "code",
      "metadata": {
        "colab": {
          "base_uri": "https://localhost:8080/",
          "height": 35
        },
        "id": "sOT_DpenC6PG",
        "outputId": "77612415-2516-4acd-a431-8cd450cbf730"
      },
      "source": [
        "word[-1]  # last character"
      ],
      "execution_count": null,
      "outputs": [
        {
          "output_type": "execute_result",
          "data": {
            "application/vnd.google.colaboratory.intrinsic+json": {
              "type": "string"
            },
            "text/plain": [
              "'n'"
            ]
          },
          "metadata": {
            "tags": []
          },
          "execution_count": 56
        }
      ]
    },
    {
      "cell_type": "code",
      "metadata": {
        "id": "73-C8M8a7tSE"
      },
      "source": [
        "word[-6]  # first character"
      ],
      "execution_count": null,
      "outputs": []
    },
    {
      "cell_type": "code",
      "metadata": {
        "colab": {
          "base_uri": "https://localhost:8080/",
          "height": 35
        },
        "id": "PrgqRChEDDwJ",
        "outputId": "d79c5183-424f-44ee-bb56-ae6d79cc74af"
      },
      "source": [
        "word[-2]  # second-last character"
      ],
      "execution_count": null,
      "outputs": [
        {
          "output_type": "execute_result",
          "data": {
            "application/vnd.google.colaboratory.intrinsic+json": {
              "type": "string"
            },
            "text/plain": [
              "'o'"
            ]
          },
          "metadata": {
            "tags": []
          },
          "execution_count": 58
        }
      ]
    },
    {
      "cell_type": "markdown",
      "metadata": {
        "id": "y4bOZtoc1Vw5"
      },
      "source": [
        "### String slicing"
      ]
    },
    {
      "cell_type": "code",
      "metadata": {
        "colab": {
          "base_uri": "https://localhost:8080/",
          "height": 35
        },
        "id": "Q42hSm3zDE43",
        "outputId": "20b07b59-bd25-491a-e569-a958e62cf714"
      },
      "source": [
        "word[0:2]  # characters from position 0 (included) to 2 (excluded)"
      ],
      "execution_count": null,
      "outputs": [
        {
          "output_type": "execute_result",
          "data": {
            "application/vnd.google.colaboratory.intrinsic": {
              "type": "string"
            },
            "text/plain": [
              "'Py'"
            ]
          },
          "metadata": {
            "tags": []
          },
          "execution_count": 204
        }
      ]
    },
    {
      "cell_type": "code",
      "metadata": {
        "colab": {
          "base_uri": "https://localhost:8080/",
          "height": 35
        },
        "id": "Ncrxq2jFDIh2",
        "outputId": "6078963d-4400-46a8-dae8-71fda419b8ce"
      },
      "source": [
        "word[:2]   # character from the beginning to position 2 (excluded)"
      ],
      "execution_count": null,
      "outputs": [
        {
          "output_type": "execute_result",
          "data": {
            "application/vnd.google.colaboratory.intrinsic": {
              "type": "string"
            },
            "text/plain": [
              "'Py'"
            ]
          },
          "metadata": {
            "tags": []
          },
          "execution_count": 205
        }
      ]
    },
    {
      "cell_type": "code",
      "metadata": {
        "colab": {
          "base_uri": "https://localhost:8080/",
          "height": 35
        },
        "id": "kIcNlqGVDLup",
        "outputId": "24ecaf82-6837-4778-e2a9-8e405d5e0949"
      },
      "source": [
        "word[4:]   # characters from position 4 (included) to the end"
      ],
      "execution_count": null,
      "outputs": [
        {
          "output_type": "execute_result",
          "data": {
            "application/vnd.google.colaboratory.intrinsic": {
              "type": "string"
            },
            "text/plain": [
              "'on'"
            ]
          },
          "metadata": {
            "tags": []
          },
          "execution_count": 206
        }
      ]
    },
    {
      "cell_type": "code",
      "metadata": {
        "colab": {
          "base_uri": "https://localhost:8080/",
          "height": 35
        },
        "id": "DEaySbpDDO92",
        "outputId": "21c3f74e-5eca-4be3-9e47-857d8488aa3e"
      },
      "source": [
        "word[-2:]  # characters from the second-last (included) to the end"
      ],
      "execution_count": null,
      "outputs": [
        {
          "output_type": "execute_result",
          "data": {
            "application/vnd.google.colaboratory.intrinsic": {
              "type": "string"
            },
            "text/plain": [
              "'on'"
            ]
          },
          "metadata": {
            "tags": []
          },
          "execution_count": 207
        }
      ]
    },
    {
      "cell_type": "markdown",
      "metadata": {
        "id": "2VZuG8pf7TF7"
      },
      "source": [
        "Indexing out of index error!"
      ]
    },
    {
      "cell_type": "code",
      "metadata": {
        "colab": {
          "base_uri": "https://localhost:8080/",
          "height": 164
        },
        "id": "WnMadhEP7InL",
        "outputId": "e80ac263-aed0-48e3-8e3d-55afa081d9c5"
      },
      "source": [
        "#word[6]   # error -> out of index"
      ],
      "execution_count": null,
      "outputs": [
        {
          "output_type": "error",
          "ename": "IndexError",
          "evalue": "ignored",
          "traceback": [
            "\u001b[0;31m---------------------------------------------------------------------------\u001b[0m",
            "\u001b[0;31mIndexError\u001b[0m                                Traceback (most recent call last)",
            "\u001b[0;32m<ipython-input-59-e2a70d26b809>\u001b[0m in \u001b[0;36m<module>\u001b[0;34m()\u001b[0m\n\u001b[0;32m----> 1\u001b[0;31m \u001b[0mword\u001b[0m\u001b[0;34m[\u001b[0m\u001b[0;36m6\u001b[0m\u001b[0;34m]\u001b[0m   \u001b[0;31m# error -> out of index\u001b[0m\u001b[0;34m\u001b[0m\u001b[0;34m\u001b[0m\u001b[0m\n\u001b[0m",
            "\u001b[0;31mIndexError\u001b[0m: string index out of range"
          ]
        }
      ]
    },
    {
      "cell_type": "markdown",
      "metadata": {
        "id": "7NHifjVyDXmQ"
      },
      "source": [
        "However, out of range slice indexes are handled gracefully when used for slicing:"
      ]
    },
    {
      "cell_type": "code",
      "metadata": {
        "colab": {
          "base_uri": "https://localhost:8080/",
          "height": 35
        },
        "id": "0G5lS-LRDZWe",
        "outputId": "3290068b-96d1-455e-9473-6cbb35a46dcc"
      },
      "source": [
        "word[4:42]"
      ],
      "execution_count": null,
      "outputs": [
        {
          "output_type": "execute_result",
          "data": {
            "application/vnd.google.colaboratory.intrinsic+json": {
              "type": "string"
            },
            "text/plain": [
              "'on'"
            ]
          },
          "metadata": {
            "tags": []
          },
          "execution_count": 60
        }
      ]
    },
    {
      "cell_type": "code",
      "metadata": {
        "colab": {
          "base_uri": "https://localhost:8080/",
          "height": 35
        },
        "id": "QZDJ7kwMDfwj",
        "outputId": "14bb624e-92a1-491a-c479-8271c1fec129"
      },
      "source": [
        "'C' + word[1:]"
      ],
      "execution_count": null,
      "outputs": [
        {
          "output_type": "execute_result",
          "data": {
            "application/vnd.google.colaboratory.intrinsic+json": {
              "type": "string"
            },
            "text/plain": [
              "'Cython'"
            ]
          },
          "metadata": {
            "tags": []
          },
          "execution_count": 61
        }
      ]
    },
    {
      "cell_type": "code",
      "metadata": {
        "colab": {
          "base_uri": "https://localhost:8080/"
        },
        "id": "X9pekEMmDg6f",
        "outputId": "d6c1ea27-3387-432a-ec38-374496ea28cf"
      },
      "source": [
        "s = 'supercalifragilisticexpialidocious'\n",
        "len(s)"
      ],
      "execution_count": null,
      "outputs": [
        {
          "output_type": "execute_result",
          "data": {
            "text/plain": [
              "34"
            ]
          },
          "metadata": {
            "tags": []
          },
          "execution_count": 62
        }
      ]
    },
    {
      "cell_type": "markdown",
      "metadata": {
        "id": "3kG-GkgW1-aA"
      },
      "source": [
        "### Operations on strings!"
      ]
    },
    {
      "cell_type": "code",
      "metadata": {
        "colab": {
          "base_uri": "https://localhost:8080/",
          "height": 35
        },
        "id": "7XIkisa32C0s",
        "outputId": "e275e877-2f9b-4b7a-ab96-79b8093f2c31"
      },
      "source": [
        "example_string = \"pyThon Programming\"\n",
        "example_string"
      ],
      "execution_count": null,
      "outputs": [
        {
          "output_type": "execute_result",
          "data": {
            "application/vnd.google.colaboratory.intrinsic+json": {
              "type": "string"
            },
            "text/plain": [
              "'pyThon Programming'"
            ]
          },
          "metadata": {
            "tags": []
          },
          "execution_count": 38
        }
      ]
    },
    {
      "cell_type": "code",
      "metadata": {
        "colab": {
          "base_uri": "https://localhost:8080/"
        },
        "id": "ORi8ELBM2uC-",
        "outputId": "32835e34-2c1b-4ae1-f835-4f8c5fe2720e"
      },
      "source": [
        "example_string.capitalize(),example_string"
      ],
      "execution_count": null,
      "outputs": [
        {
          "output_type": "execute_result",
          "data": {
            "text/plain": [
              "('Python programming', 'pyThon Programming')"
            ]
          },
          "metadata": {
            "tags": []
          },
          "execution_count": 39
        }
      ]
    },
    {
      "cell_type": "code",
      "metadata": {
        "colab": {
          "base_uri": "https://localhost:8080/"
        },
        "id": "eYarmfO420Y6",
        "outputId": "5e1c13c6-a4db-451a-a3c7-af79045a2b30"
      },
      "source": [
        "example_string.casefold(),example_string"
      ],
      "execution_count": null,
      "outputs": [
        {
          "output_type": "execute_result",
          "data": {
            "text/plain": [
              "('python programming', 'pyThon Programming')"
            ]
          },
          "metadata": {
            "tags": []
          },
          "execution_count": 40
        }
      ]
    },
    {
      "cell_type": "code",
      "metadata": {
        "colab": {
          "base_uri": "https://localhost:8080/"
        },
        "id": "J61G-Nd52_8G",
        "outputId": "472a9d3b-8767-4ade-c6d9-3b050cb3a8af"
      },
      "source": [
        "example_string.count('p')   # \"pyThon Programming\""
      ],
      "execution_count": null,
      "outputs": [
        {
          "output_type": "execute_result",
          "data": {
            "text/plain": [
              "1"
            ]
          },
          "metadata": {
            "tags": []
          },
          "execution_count": 31
        }
      ]
    },
    {
      "cell_type": "code",
      "metadata": {
        "colab": {
          "base_uri": "https://localhost:8080/"
        },
        "id": "VjfY9ZPm3RMB",
        "outputId": "ef8f76ab-6005-43e9-d39f-f94222edfc90"
      },
      "source": [
        "example_string.endswith('g'), example_string.endswith('m')"
      ],
      "execution_count": null,
      "outputs": [
        {
          "output_type": "execute_result",
          "data": {
            "text/plain": [
              "(True, False)"
            ]
          },
          "metadata": {
            "tags": []
          },
          "execution_count": 33
        }
      ]
    },
    {
      "cell_type": "code",
      "metadata": {
        "colab": {
          "base_uri": "https://localhost:8080/"
        },
        "id": "nAvVXoxC3fFQ",
        "outputId": "5f69748c-3d06-43f0-fe00-b8f038b3c7b7"
      },
      "source": [
        "example_string.find('T'), example_string.find('m'),example_string.find('n',7)  # \"pyThon Programming\"\n",
        "#     p     y    T    h    o    n    P    r   o   g    r    a    m    m    i    n    g\n",
        "#     0     1    2    3    4    5    6    7   8   9   10   11   12   13   14   15   16\n",
        "#   -17   -16  -15  -14  -13  -12  -11  -10  -9  -8   -7   -6   -5   -4   -3   -2   -1"
      ],
      "execution_count": null,
      "outputs": [
        {
          "output_type": "execute_result",
          "data": {
            "text/plain": [
              "(2, 13, 16)"
            ]
          },
          "metadata": {
            "tags": []
          },
          "execution_count": 37
        }
      ]
    },
    {
      "cell_type": "code",
      "metadata": {
        "colab": {
          "base_uri": "https://localhost:8080/"
        },
        "id": "2puxjfx25PSV",
        "outputId": "1bde772a-4389-4270-cba8-ba50ba6e47c1"
      },
      "source": [
        "example_string.islower(),example_string.isupper(),example_string.isdigit()"
      ],
      "execution_count": null,
      "outputs": [
        {
          "output_type": "execute_result",
          "data": {
            "text/plain": [
              "(False, False, False)"
            ]
          },
          "metadata": {
            "tags": []
          },
          "execution_count": 45
        }
      ]
    },
    {
      "cell_type": "code",
      "metadata": {
        "colab": {
          "base_uri": "https://localhost:8080/"
        },
        "id": "AckCxweT53KG",
        "outputId": "1ca2a397-cc09-47a1-9394-03be00511f35"
      },
      "source": [
        "'lower'.islower(),'UPPER'.isupper(),'12345'.isdigit()"
      ],
      "execution_count": null,
      "outputs": [
        {
          "output_type": "execute_result",
          "data": {
            "text/plain": [
              "(True, True, True)"
            ]
          },
          "metadata": {
            "tags": []
          },
          "execution_count": 46
        }
      ]
    },
    {
      "cell_type": "markdown",
      "metadata": {
        "id": "J3gon7UU6fCr"
      },
      "source": [
        "**string.split()**"
      ]
    },
    {
      "cell_type": "code",
      "metadata": {
        "colab": {
          "base_uri": "https://localhost:8080/"
        },
        "id": "altUCI5u6d37",
        "outputId": "ae08623d-1830-4793-adb2-69b060ae6181"
      },
      "source": [
        "str.split"
      ],
      "execution_count": null,
      "outputs": [
        {
          "output_type": "execute_result",
          "data": {
            "text/plain": [
              "<method 'split' of 'str' objects>"
            ]
          },
          "metadata": {
            "tags": []
          },
          "execution_count": 48
        }
      ]
    },
    {
      "cell_type": "code",
      "metadata": {
        "colab": {
          "base_uri": "https://localhost:8080/"
        },
        "id": "FXOugkMl6nq_",
        "outputId": "7410a5cb-8d11-4885-bbea-4f9d33293d7d"
      },
      "source": [
        "\"example@mail.com\".split(\"@\")"
      ],
      "execution_count": null,
      "outputs": [
        {
          "output_type": "execute_result",
          "data": {
            "text/plain": [
              "['example', 'mail.com']"
            ]
          },
          "metadata": {
            "tags": []
          },
          "execution_count": 49
        }
      ]
    },
    {
      "cell_type": "code",
      "metadata": {
        "colab": {
          "base_uri": "https://localhost:8080/"
        },
        "id": "rSrBEPW-62ma",
        "outputId": "340e5c43-6789-4efb-edf9-b53291c2f1df"
      },
      "source": [
        "\"example@mail.com\".split(\"@\")[-1].split('.')"
      ],
      "execution_count": null,
      "outputs": [
        {
          "output_type": "execute_result",
          "data": {
            "text/plain": [
              "['mail', 'com']"
            ]
          },
          "metadata": {
            "tags": []
          },
          "execution_count": 51
        }
      ]
    },
    {
      "cell_type": "code",
      "metadata": {
        "colab": {
          "base_uri": "https://localhost:8080/",
          "height": 35
        },
        "id": "zpaSIdo469qA",
        "outputId": "a9a07baa-2d7e-4bb3-fca6-636c5086869f"
      },
      "source": [
        "\"example@mail.com\".split(\"@\")[-1].split('.')[0]"
      ],
      "execution_count": null,
      "outputs": [
        {
          "output_type": "execute_result",
          "data": {
            "application/vnd.google.colaboratory.intrinsic+json": {
              "type": "string"
            },
            "text/plain": [
              "'mail'"
            ]
          },
          "metadata": {
            "tags": []
          },
          "execution_count": 52
        }
      ]
    },
    {
      "cell_type": "markdown",
      "metadata": {
        "id": "y4zz5a-bFaoq"
      },
      "source": [
        "#4. [Lists](https://docs.python.org/3.6/tutorial/introduction.html#lists)\n",
        "\n",
        "Python knows a number of compound **data types**, used to group together other values. The most versatile is the list, which can be written as a list of comma-separated values (items) between square brackets. Lists might contain items of different types, but usually the items all have the same type."
      ]
    },
    {
      "cell_type": "code",
      "metadata": {
        "colab": {
          "base_uri": "https://localhost:8080/"
        },
        "id": "bC4At6p-Fo_m",
        "outputId": "04fa5835-1ac5-4df0-94ad-35b53d82eeab"
      },
      "source": [
        "squares = [1, 4, 9, 16, 25]\n",
        "print(squares)\n",
        "print(*squares)           # a,b,c,d,e=*squares"
      ],
      "execution_count": null,
      "outputs": [
        {
          "output_type": "stream",
          "text": [
            "[1, 4, 9, 16, 25]\n",
            "1 4 9 16 25\n"
          ],
          "name": "stdout"
        }
      ]
    },
    {
      "cell_type": "code",
      "metadata": {
        "colab": {
          "base_uri": "https://localhost:8080/"
        },
        "id": "zxukFlTgF2Hb",
        "outputId": "668ee3d2-b543-4d8b-ed0d-8cc5ea91c109"
      },
      "source": [
        "squares[0]  # indexing returns the item"
      ],
      "execution_count": null,
      "outputs": [
        {
          "output_type": "execute_result",
          "data": {
            "text/plain": [
              "1"
            ]
          },
          "metadata": {
            "tags": []
          },
          "execution_count": 2
        }
      ]
    },
    {
      "cell_type": "code",
      "metadata": {
        "colab": {
          "base_uri": "https://localhost:8080/"
        },
        "id": "mjMyZQSYF6db",
        "outputId": "e69bce08-42a0-4993-b263-52987260accf"
      },
      "source": [
        "squares[-3:]  # slicing returns a new list"
      ],
      "execution_count": null,
      "outputs": [
        {
          "output_type": "execute_result",
          "data": {
            "text/plain": [
              "[9, 16, 25]"
            ]
          },
          "metadata": {
            "tags": []
          },
          "execution_count": 3
        }
      ]
    },
    {
      "cell_type": "markdown",
      "metadata": {
        "id": "BGATivWPGApE"
      },
      "source": [
        "All slice operations return a new list containing the requested elements. This means that the following slice returns a new (shallow) copy of the list:"
      ]
    },
    {
      "cell_type": "code",
      "metadata": {
        "colab": {
          "base_uri": "https://localhost:8080/"
        },
        "id": "tOrUS0iYF-Sn",
        "outputId": "8bd7652d-b710-4f55-9351-4db364ca1350"
      },
      "source": [
        "squares[:]"
      ],
      "execution_count": null,
      "outputs": [
        {
          "output_type": "execute_result",
          "data": {
            "text/plain": [
              "[1, 4, 9, 16, 25]"
            ]
          },
          "metadata": {
            "tags": []
          },
          "execution_count": 4
        }
      ]
    },
    {
      "cell_type": "code",
      "metadata": {
        "colab": {
          "base_uri": "https://localhost:8080/"
        },
        "id": "_jhhe9lqGFIr",
        "outputId": "c407e80f-b9b6-41ac-84a4-f6f18df482fa"
      },
      "source": [
        "# Lists also support operations like concatenation\n",
        "squares + [36, 49, 64, 81, 100]"
      ],
      "execution_count": null,
      "outputs": [
        {
          "output_type": "execute_result",
          "data": {
            "text/plain": [
              "[1, 4, 9, 16, 25, 36, 49, 64, 81, 100]"
            ]
          },
          "metadata": {
            "tags": []
          },
          "execution_count": 5
        }
      ]
    },
    {
      "cell_type": "markdown",
      "metadata": {
        "id": "4musMlKgGjFv"
      },
      "source": [
        "Unlike strings, which are immutable, lists are a mutable type, i.e. it is possible to change their content:"
      ]
    },
    {
      "cell_type": "code",
      "metadata": {
        "colab": {
          "base_uri": "https://localhost:8080/"
        },
        "id": "8KFLh4AAGePo",
        "outputId": "d7399bc1-d996-41bd-9b01-c94ac60c2b7a"
      },
      "source": [
        "cubes = [1, 8, 27, 65, 125]  # something's wrong here\n",
        "cubes"
      ],
      "execution_count": null,
      "outputs": [
        {
          "output_type": "execute_result",
          "data": {
            "text/plain": [
              "[1, 8, 27, 65, 125]"
            ]
          },
          "metadata": {
            "tags": []
          },
          "execution_count": 6
        }
      ]
    },
    {
      "cell_type": "code",
      "metadata": {
        "colab": {
          "base_uri": "https://localhost:8080/"
        },
        "id": "yKV3Lx9lGqfq",
        "outputId": "7e9bb5c8-d06f-412b-cf90-07865435a4ec"
      },
      "source": [
        "cubes[3] = 64  # replace the wrong value\n",
        "cubes"
      ],
      "execution_count": null,
      "outputs": [
        {
          "output_type": "execute_result",
          "data": {
            "text/plain": [
              "[1, 8, 27, 64, 125]"
            ]
          },
          "metadata": {
            "tags": []
          },
          "execution_count": 7
        }
      ]
    },
    {
      "cell_type": "code",
      "metadata": {
        "colab": {
          "base_uri": "https://localhost:8080/"
        },
        "id": "t93BU2-jGyBx",
        "outputId": "74aea788-d919-4b6d-dfdc-383883d0a2e4"
      },
      "source": [
        "letters = list('abcdefg')\n",
        "letters"
      ],
      "execution_count": null,
      "outputs": [
        {
          "output_type": "execute_result",
          "data": {
            "text/plain": [
              "['a', 'b', 'c', 'd', 'e', 'f', 'g']"
            ]
          },
          "metadata": {
            "tags": []
          },
          "execution_count": 8
        }
      ]
    },
    {
      "cell_type": "code",
      "metadata": {
        "colab": {
          "base_uri": "https://localhost:8080/"
        },
        "id": "VqI11B_uG4pm",
        "outputId": "048ef94b-fa46-40f2-8a14-0a14a615ea30"
      },
      "source": [
        "len(letters)"
      ],
      "execution_count": null,
      "outputs": [
        {
          "output_type": "execute_result",
          "data": {
            "text/plain": [
              "7"
            ]
          },
          "metadata": {
            "tags": []
          },
          "execution_count": 9
        }
      ]
    },
    {
      "cell_type": "code",
      "metadata": {
        "colab": {
          "base_uri": "https://localhost:8080/"
        },
        "id": "E84TeTUIG8Pu",
        "outputId": "11331976-9b1e-435e-f86d-c9904e474c3b"
      },
      "source": [
        "# replace some values\n",
        "letters[2:5] = ['C', 'D', 'E']\n",
        "letters"
      ],
      "execution_count": null,
      "outputs": [
        {
          "output_type": "execute_result",
          "data": {
            "text/plain": [
              "['a', 'b', 'C', 'D', 'E', 'f', 'g']"
            ]
          },
          "metadata": {
            "tags": []
          },
          "execution_count": 10
        }
      ]
    },
    {
      "cell_type": "code",
      "metadata": {
        "colab": {
          "base_uri": "https://localhost:8080/"
        },
        "id": "d9rZFgKAHKJH",
        "outputId": "75a3f8af-989b-41a2-bd99-975fa9687cb4"
      },
      "source": [
        "# now remove them\n",
        "letters[2:5] = []\n",
        "letters"
      ],
      "execution_count": null,
      "outputs": [
        {
          "output_type": "execute_result",
          "data": {
            "text/plain": [
              "['a', 'b', 'f', 'g']"
            ]
          },
          "metadata": {
            "tags": []
          },
          "execution_count": 11
        }
      ]
    },
    {
      "cell_type": "code",
      "metadata": {
        "colab": {
          "base_uri": "https://localhost:8080/"
        },
        "id": "QTRV2t4pH_4J",
        "outputId": "e9a9f5db-3fd8-41cd-ed95-b58596d2d36e"
      },
      "source": [
        "del letters[0]\n",
        "letters"
      ],
      "execution_count": null,
      "outputs": [
        {
          "output_type": "execute_result",
          "data": {
            "text/plain": [
              "['b', 'f', 'g']"
            ]
          },
          "metadata": {
            "tags": []
          },
          "execution_count": 12
        }
      ]
    },
    {
      "cell_type": "code",
      "metadata": {
        "colab": {
          "base_uri": "https://localhost:8080/"
        },
        "id": "7O5vjMRNH4fd",
        "outputId": "dffb1fe7-8043-424d-9b7d-e9c9f9dc88ac"
      },
      "source": [
        "# clear the list by replacing all the elements with an empty list\n",
        "letters[:] = []\n",
        "letters"
      ],
      "execution_count": null,
      "outputs": [
        {
          "output_type": "execute_result",
          "data": {
            "text/plain": [
              "[]"
            ]
          },
          "metadata": {
            "tags": []
          },
          "execution_count": 13
        }
      ]
    },
    {
      "cell_type": "markdown",
      "metadata": {
        "id": "J7rRTFzDINt7"
      },
      "source": [
        "It is possible to nest lists (create lists containing other lists), for example:"
      ]
    },
    {
      "cell_type": "code",
      "metadata": {
        "colab": {
          "base_uri": "https://localhost:8080/"
        },
        "id": "8O4fr8MUH8sb",
        "outputId": "c1eb5863-0261-49ae-bcfd-18c9b861b91c"
      },
      "source": [
        "a = ['a', 'b', 'c']\n",
        "n = [1, 2, 3]\n",
        "x = [a, n]\n",
        "x"
      ],
      "execution_count": null,
      "outputs": [
        {
          "output_type": "execute_result",
          "data": {
            "text/plain": [
              "[['a', 'b', 'c'], [1, 2, 3]]"
            ]
          },
          "metadata": {
            "tags": []
          },
          "execution_count": 14
        }
      ]
    },
    {
      "cell_type": "code",
      "metadata": {
        "colab": {
          "base_uri": "https://localhost:8080/"
        },
        "id": "nuoBb83zIY8W",
        "outputId": "d38cfeab-a927-4a91-e5ca-8855a6413316"
      },
      "source": [
        "x[0]"
      ],
      "execution_count": null,
      "outputs": [
        {
          "output_type": "execute_result",
          "data": {
            "text/plain": [
              "['a', 'b', 'c']"
            ]
          },
          "metadata": {
            "tags": []
          },
          "execution_count": 15
        }
      ]
    },
    {
      "cell_type": "code",
      "metadata": {
        "colab": {
          "base_uri": "https://localhost:8080/"
        },
        "id": "fqRFEhdCIWWT",
        "outputId": "90a599a6-cad2-44c3-9dea-f87a54ed64c7"
      },
      "source": [
        "type(x[0])"
      ],
      "execution_count": null,
      "outputs": [
        {
          "output_type": "execute_result",
          "data": {
            "text/plain": [
              "list"
            ]
          },
          "metadata": {
            "tags": []
          },
          "execution_count": 16
        }
      ]
    },
    {
      "cell_type": "code",
      "metadata": {
        "colab": {
          "base_uri": "https://localhost:8080/",
          "height": 35
        },
        "id": "Z8hDykZOIb3w",
        "outputId": "9e0945a8-a4e8-407f-d86f-7b8093b4e874"
      },
      "source": [
        "x[0][1]"
      ],
      "execution_count": null,
      "outputs": [
        {
          "output_type": "execute_result",
          "data": {
            "application/vnd.google.colaboratory.intrinsic+json": {
              "type": "string"
            },
            "text/plain": [
              "'b'"
            ]
          },
          "metadata": {
            "tags": []
          },
          "execution_count": 17
        }
      ]
    },
    {
      "cell_type": "code",
      "metadata": {
        "colab": {
          "base_uri": "https://localhost:8080/",
          "height": 34
        },
        "id": "es4D7CT8PwdS",
        "outputId": "17c1d5af-2d3f-46c2-fa3c-c781ee45b9a6"
      },
      "source": [
        "a = str(True)\n",
        "type(a)"
      ],
      "execution_count": null,
      "outputs": [
        {
          "output_type": "execute_result",
          "data": {
            "text/plain": [
              "str"
            ]
          },
          "metadata": {
            "tags": []
          },
          "execution_count": 234
        }
      ]
    },
    {
      "cell_type": "markdown",
      "metadata": {
        "id": "gv4Wi8RBQh0A"
      },
      "source": [
        "**Get User Input ---**"
      ]
    },
    {
      "cell_type": "code",
      "metadata": {
        "colab": {
          "base_uri": "https://localhost:8080/",
          "height": 51
        },
        "id": "-nIfZQVFP2EB",
        "outputId": "28233c79-bd1a-4893-cabc-63fabdbd34fe"
      },
      "source": [
        "a = input()\n",
        "print(a)"
      ],
      "execution_count": null,
      "outputs": [
        {
          "output_type": "stream",
          "text": [
            "Hello\n",
            "Hello\n"
          ],
          "name": "stdout"
        }
      ]
    },
    {
      "cell_type": "code",
      "metadata": {
        "colab": {
          "base_uri": "https://localhost:8080/",
          "height": 68
        },
        "id": "Rm6GF6H5QNcb",
        "outputId": "77f47313-cd95-4f05-8d95-486816d5acf4"
      },
      "source": [
        "print('May I know your name?')\n",
        "print('Hello!',input())"
      ],
      "execution_count": null,
      "outputs": [
        {
          "output_type": "stream",
          "text": [
            "May I know your name?\n",
            "MegaMachine\n",
            "Hello! MegaMachine\n"
          ],
          "name": "stdout"
        }
      ]
    },
    {
      "cell_type": "code",
      "metadata": {
        "colab": {
          "base_uri": "https://localhost:8080/",
          "height": 51
        },
        "id": "CmVSDS8UQs_b",
        "outputId": "52dda64b-d789-4135-de48-4996cb2d0f13"
      },
      "source": [
        "print('Hello!',input('May I know your name? '))"
      ],
      "execution_count": null,
      "outputs": [
        {
          "output_type": "stream",
          "text": [
            "May I know your name? MegaMachine\n",
            "Hello! MegaMachine\n"
          ],
          "name": "stdout"
        }
      ]
    },
    {
      "cell_type": "code",
      "metadata": {
        "colab": {
          "base_uri": "https://localhost:8080/",
          "height": 51
        },
        "id": "olYOktV5Qfxg",
        "outputId": "fd0085e1-19d1-46d7-e8db-e2de549d6852"
      },
      "source": [
        "variable = input()\n",
        "type(variable)"
      ],
      "execution_count": null,
      "outputs": [
        {
          "output_type": "stream",
          "text": [
            "1.3672\n"
          ],
          "name": "stdout"
        },
        {
          "output_type": "execute_result",
          "data": {
            "text/plain": [
              "str"
            ]
          },
          "metadata": {
            "tags": []
          },
          "execution_count": 238
        }
      ]
    },
    {
      "cell_type": "code",
      "metadata": {
        "colab": {
          "base_uri": "https://localhost:8080/"
        },
        "id": "-pDuDgPDQUQd",
        "outputId": "b71b99f3-8cbb-41e0-a68c-cafc5ab8faae"
      },
      "source": [
        "x,y=5,-6\n",
        "eval('x+2+y')   # 5+2-6"
      ],
      "execution_count": null,
      "outputs": [
        {
          "output_type": "execute_result",
          "data": {
            "text/plain": [
              "1"
            ]
          },
          "metadata": {
            "tags": []
          },
          "execution_count": 43
        }
      ]
    },
    {
      "cell_type": "markdown",
      "metadata": {
        "id": "Dv25RjLNRHGk"
      },
      "source": [
        "#6. Build a simple calculator "
      ]
    },
    {
      "cell_type": "code",
      "metadata": {
        "colab": {
          "base_uri": "https://localhost:8080/",
          "height": 68
        },
        "id": "tENTATnsQ6qY",
        "outputId": "b36db0a1-0c10-458a-89bb-5789497a0ea3"
      },
      "source": [
        "# Read the first number\n",
        "x = float(input('Enter the first number: '))\n",
        "\n",
        "# Get the second number\n",
        "y = float(input('Enter the second number: '))\n",
        "\n",
        "# Add them together\n",
        "result = x + y\n",
        "\n",
        "# Display the results\n",
        "print(str(x) + \" + \" + str(y) + \" = \" + str(result))"
      ],
      "execution_count": null,
      "outputs": [
        {
          "output_type": "stream",
          "text": [
            "Enter the first number: 3.475\n",
            "Enter the second number: 4.58923\n",
            "3.475 + 4.58923 = 8.06423\n"
          ],
          "name": "stdout"
        }
      ]
    },
    {
      "cell_type": "markdown",
      "metadata": {
        "id": "Rn-fgFWXRUUE"
      },
      "source": [
        "#7. First Steps Towards Programming --"
      ]
    },
    {
      "cell_type": "code",
      "metadata": {
        "colab": {
          "base_uri": "https://localhost:8080/",
          "height": 119
        },
        "id": "9FCjZW-hRX0u",
        "outputId": "a3e27362-6602-4ffd-a5b6-5226b655f458"
      },
      "source": [
        "# Fibonacci series:\n",
        "# the sum of two elements defines the next\n",
        "a, b = 0, 1\n",
        "while b < 10:\n",
        "  print(b)\n",
        "  a, b = b, a+b"
      ],
      "execution_count": null,
      "outputs": [
        {
          "output_type": "stream",
          "text": [
            "1\n",
            "1\n",
            "2\n",
            "3\n",
            "5\n",
            "8\n"
          ],
          "name": "stdout"
        }
      ]
    },
    {
      "cell_type": "markdown",
      "metadata": {
        "id": "Lcr-OUfAA6GE"
      },
      "source": [
        "#8. [More Control Flow Tools](https://docs.python.org/3.8/tutorial/controlflow.html)"
      ]
    },
    {
      "cell_type": "markdown",
      "metadata": {
        "id": "8X0JZFUVBQnp"
      },
      "source": [
        "### if Statements"
      ]
    },
    {
      "cell_type": "code",
      "metadata": {
        "colab": {
          "base_uri": "https://localhost:8080/"
        },
        "id": "4iyDqupLAwqi",
        "outputId": "81fced24-4897-4d14-9c32-963dc1edd1d8"
      },
      "source": [
        "if (-4<5): # <- boolean condition  \n",
        "  print(\"Yes, -4 is less than 5\")     # <---- One tab space "
      ],
      "execution_count": null,
      "outputs": [
        {
          "output_type": "stream",
          "text": [
            "Yes, -4 is less than 5\n"
          ],
          "name": "stdout"
        }
      ]
    },
    {
      "cell_type": "code",
      "metadata": {
        "colab": {
          "base_uri": "https://localhost:8080/"
        },
        "id": "D4rmK_K4CKq6",
        "outputId": "94185a7a-8f1c-41fb-e2e8-fb543cd14ff7"
      },
      "source": [
        "condition = 5>-1\n",
        "print(\"condition value ->\",condition)\n",
        "if (condition): # Output of bool operation  -> True or false \n",
        "  print(\"I will work\")"
      ],
      "execution_count": null,
      "outputs": [
        {
          "output_type": "stream",
          "text": [
            "condition value -> True\n",
            "I will work\n"
          ],
          "name": "stdout"
        }
      ]
    },
    {
      "cell_type": "code",
      "metadata": {
        "id": "0t7Bvy0qCKpL"
      },
      "source": [
        "if (0):         # As 0 == int(False)\n",
        "  print('I will never work')"
      ],
      "execution_count": null,
      "outputs": []
    },
    {
      "cell_type": "markdown",
      "metadata": {
        "id": "jQoqf7EBEILq"
      },
      "source": [
        "### if-elif-else Statements"
      ]
    },
    {
      "cell_type": "code",
      "metadata": {
        "colab": {
          "base_uri": "https://localhost:8080/"
        },
        "id": "2zAG-6h8EGTc",
        "outputId": "b0aea306-2389-4c68-c373-e292abe00277"
      },
      "source": [
        "x = int(input(\"Please enter an integer: \"))\n",
        "if x < 0:\n",
        "  x = 0\n",
        "  print('Negative changed to zero ->',x)\n",
        "elif x == 0: \n",
        "  print('Zero')\n",
        "elif x == 1: print('Single')          # Also this way, when only one Statements \n",
        "else: print('More')"
      ],
      "execution_count": null,
      "outputs": [
        {
          "output_type": "stream",
          "text": [
            "Please enter an integer: -9\n",
            "Negative changed to zero -> 0\n"
          ],
          "name": "stdout"
        }
      ]
    },
    {
      "cell_type": "markdown",
      "metadata": {
        "id": "RqhcYJ_eFMr0"
      },
      "source": [
        "### for statements"
      ]
    },
    {
      "cell_type": "code",
      "metadata": {
        "colab": {
          "base_uri": "https://localhost:8080/"
        },
        "id": "D2aFJyD-FMR7",
        "outputId": "d86429e8-2384-4a78-d631-7ea8ff522d7e"
      },
      "source": [
        "# Measure some strings:\n",
        "bag_of_words = ['cat', 'window', 'defenestrate']\n",
        "for word in bag_of_words:\n",
        "  print('Got:',word,'of length ->',len(word))"
      ],
      "execution_count": null,
      "outputs": [
        {
          "output_type": "stream",
          "text": [
            "Got: cat of length -> 3\n",
            "Got: window of length -> 6\n",
            "Got: defenestrate of length -> 12\n"
          ],
          "name": "stdout"
        }
      ]
    },
    {
      "cell_type": "markdown",
      "metadata": {
        "id": "f3Wtg_J5FzRI"
      },
      "source": [
        "### range() function with \"for statements\""
      ]
    },
    {
      "cell_type": "code",
      "metadata": {
        "colab": {
          "base_uri": "https://localhost:8080/"
        },
        "id": "ATwRgBRIF7At",
        "outputId": "616a4372-5501-4de3-eb4a-5bc48d6f2306"
      },
      "source": [
        "# what print?  -> \n",
        "# range(stop) -> range object\n",
        "# range(start, stop[, step]) -> range object\n",
        "print(list(range(10)))\n",
        "print(list(range(-17,-1)))\n",
        "list(range(10,54,11))"
      ],
      "execution_count": null,
      "outputs": [
        {
          "output_type": "stream",
          "text": [
            "[0, 1, 2, 3, 4, 5, 6, 7, 8, 9]\n",
            "[-17, -16, -15, -14, -13, -12, -11, -10, -9, -8, -7, -6, -5, -4, -3, -2]\n"
          ],
          "name": "stdout"
        },
        {
          "output_type": "execute_result",
          "data": {
            "text/plain": [
              "[10, 21, 32, 43]"
            ]
          },
          "metadata": {
            "tags": []
          },
          "execution_count": 30
        }
      ]
    },
    {
      "cell_type": "code",
      "metadata": {
        "colab": {
          "base_uri": "https://localhost:8080/"
        },
        "id": "iRpD8kGWGw0G",
        "outputId": "11fed2dd-2bf9-4aa5-fc69-8a29f14ccb84"
      },
      "source": [
        "a_number=int(input(\"Enter a integer: \"))\n",
        "for number in range(1,11):\n",
        "  print(a_number,'X',number,'=',a_number*number)"
      ],
      "execution_count": null,
      "outputs": [
        {
          "output_type": "stream",
          "text": [
            "Enter a integer: -33\n",
            "-33 X 1 = -33\n",
            "-33 X 2 = -66\n",
            "-33 X 3 = -99\n",
            "-33 X 4 = -132\n",
            "-33 X 5 = -165\n",
            "-33 X 6 = -198\n",
            "-33 X 7 = -231\n",
            "-33 X 8 = -264\n",
            "-33 X 9 = -297\n",
            "-33 X 10 = -330\n"
          ],
          "name": "stdout"
        }
      ]
    },
    {
      "cell_type": "markdown",
      "metadata": {
        "id": "Ek36tMMBHz3z"
      },
      "source": [
        "### break and continue Statements, and else Clauses on Loops\n",
        "\n",
        "The break statement, like in C, breaks out of the innermost enclosing for or while loop."
      ]
    },
    {
      "cell_type": "code",
      "metadata": {
        "colab": {
          "base_uri": "https://localhost:8080/"
        },
        "id": "avgES8Q-Hy6n",
        "outputId": "4b054ace-e79c-4d30-81eb-beb8e91b202c"
      },
      "source": [
        "# break and continue Statements\n",
        "a_number=int(input(\"Enter a integer: \"))\n",
        "for number in range(1,11):\n",
        "  if number==5: continue      # Loop will move to next value\n",
        "  if number==8: break        # Loop will stop (loop termination condition)\n",
        "  print(a_number,'X',number,'=',a_number*number)"
      ],
      "execution_count": null,
      "outputs": [
        {
          "output_type": "stream",
          "text": [
            "Enter a integer: -2\n",
            "-2 X 1 = -2\n",
            "-2 X 2 = -4\n",
            "-2 X 3 = -6\n",
            "-2 X 4 = -8\n",
            "-2 X 6 = -12\n",
            "-2 X 7 = -14\n"
          ],
          "name": "stdout"
        }
      ]
    },
    {
      "cell_type": "code",
      "metadata": {
        "id": "gzTDkYzFJFeq"
      },
      "source": [
        "# Same code with while\n",
        "a_number=int(input(\"Enter a integer: \"))\n",
        "number=2 # Loop variable\n",
        "while True: # Infinite loop\n",
        "  number-=1     # Update loop variable.       ### number-=1  --> number=number+1\n",
        "  if number==-5: continue      # Loop will move to next value\n",
        "  if number==-12: break        # Loop will stop (loop termination condition)\n",
        "  print(a_number,'X',number,'=',a_number*number)\n",
        "  # number-=1     # BUG"
      ],
      "execution_count": null,
      "outputs": []
    },
    {
      "cell_type": "markdown",
      "metadata": {
        "id": "Pdzan02CI2F_"
      },
      "source": [
        "Loop statements may have an else clause; it is executed when the loop terminates through exhaustion of the iterable (with for) or when the condition becomes false (with while), but not when the loop is terminated by a break statement. This is exemplified by the following loop, which searches for prime numbers:\n",
        "\n"
      ]
    },
    {
      "cell_type": "code",
      "metadata": {
        "colab": {
          "base_uri": "https://localhost:8080/"
        },
        "id": "82F4nM5qKhkn",
        "outputId": "82164753-3957-4981-c97f-5cfd3b4dd61d"
      },
      "source": [
        "for number in range(2, 11):\n",
        "  for checker in range(2, number):\n",
        "    if number % checker == 0:\n",
        "      print(number, 'equals', checker, '*', number//checker)\n",
        "      break\n",
        "    else:\n",
        "      # loop fell through without finding a factor\n",
        "      print(number, 'is a prime number')"
      ],
      "execution_count": null,
      "outputs": [
        {
          "output_type": "stream",
          "text": [
            "3 is a prime number\n",
            "4 equals 2 * 2\n",
            "5 is a prime number\n",
            "5 is a prime number\n",
            "5 is a prime number\n",
            "6 equals 2 * 3\n",
            "7 is a prime number\n",
            "7 is a prime number\n",
            "7 is a prime number\n",
            "7 is a prime number\n",
            "7 is a prime number\n",
            "8 equals 2 * 4\n",
            "9 is a prime number\n",
            "9 equals 3 * 3\n",
            "10 equals 2 * 5\n"
          ],
          "name": "stdout"
        }
      ]
    },
    {
      "cell_type": "markdown",
      "metadata": {
        "id": "lRzB0137MuaZ"
      },
      "source": [
        "### pass Statements"
      ]
    },
    {
      "cell_type": "code",
      "metadata": {
        "id": "_DUQpko1MwHi"
      },
      "source": [
        "while True:\n",
        "  pass  # Busy-wait for keyboard interrupt (Ctrl+C)"
      ],
      "execution_count": null,
      "outputs": []
    },
    {
      "cell_type": "markdown",
      "metadata": {
        "id": "iobFUp4wNkXP"
      },
      "source": [
        "#9. [User define functions](https://docs.python.org/3.8/tutorial/controlflow.html#defining-functions)"
      ]
    },
    {
      "cell_type": "code",
      "metadata": {
        "colab": {
          "base_uri": "https://localhost:8080/"
        },
        "id": "qqEk9Wb7N4o3",
        "outputId": "838c06de-36e0-49d9-c13e-dcef20b69aba"
      },
      "source": [
        "def fib(n):    \n",
        "  \"\"\"Print a Fibonacci series up to n.\"\"\"\n",
        "  a, b = 0, 1\n",
        "  while a < n:\n",
        "    print(a,end=' ')\n",
        "    a, b = b, a+b\n",
        "  print()\n",
        "\n",
        "# Now call the function we just defined:\n",
        "fib(2000)"
      ],
      "execution_count": null,
      "outputs": [
        {
          "output_type": "stream",
          "text": [
            "0 1 1 2 3 5 8 13 21 34 55 89 144 233 377 610 987 1597 \n"
          ],
          "name": "stdout"
        }
      ]
    },
    {
      "cell_type": "markdown",
      "metadata": {
        "id": "vQcFr4OcPSxc"
      },
      "source": [
        "### Default Argument Values - functions"
      ]
    },
    {
      "cell_type": "code",
      "metadata": {
        "id": "ziwquUzNPWio"
      },
      "source": [
        "def ask_ok(prompt, retries=4, reminder='Please try again!'):\n",
        "    while True:\n",
        "        ok = input(prompt)\n",
        "        if ok in ('y', 'ye', 'yes'):\n",
        "            return True\n",
        "        if ok in ('n', 'no', 'nop', 'nope'):\n",
        "            return False\n",
        "        retries = retries - 1\n",
        "        if retries < 0:\n",
        "            raise ValueError('invalid user response')\n",
        "        print(reminder)"
      ],
      "execution_count": null,
      "outputs": []
    },
    {
      "cell_type": "markdown",
      "metadata": {
        "id": "MeRmtkyGPeF5"
      },
      "source": [
        "### Function with return"
      ]
    },
    {
      "cell_type": "code",
      "metadata": {
        "colab": {
          "base_uri": "https://localhost:8080/"
        },
        "id": "XzlciJSUPcyp",
        "outputId": "8238d72c-05f7-4157-ac62-bf537929105b"
      },
      "source": [
        "def fib2(n):  \n",
        "  \"\"\"Return a list containing the Fibonacci series up to n.\"\"\"\n",
        "  result = []\n",
        "  a, b = 0, 1\n",
        "  while a < n:\n",
        "    result.append(a)    # see below\n",
        "    a, b = b, a+b\n",
        "  return result\n",
        "\n",
        "f100 = fib2(100)    # call it\n",
        "f100                # write the result"
      ],
      "execution_count": null,
      "outputs": [
        {
          "output_type": "execute_result",
          "data": {
            "text/plain": [
              "[0, 1, 1, 2, 3, 5, 8, 13, 21, 34, 55, 89]"
            ]
          },
          "metadata": {
            "tags": []
          },
          "execution_count": 40
        }
      ]
    },
    {
      "cell_type": "markdown",
      "metadata": {
        "id": "GkcV1JzsRXRB"
      },
      "source": [
        "#10. [Data Structures](https://docs.python.org/3.8/tutorial/datastructures.html)"
      ]
    },
    {
      "cell_type": "markdown",
      "metadata": {
        "id": "JN74drlhSn7G"
      },
      "source": [
        "### List operations"
      ]
    },
    {
      "cell_type": "code",
      "metadata": {
        "colab": {
          "base_uri": "https://localhost:8080/"
        },
        "id": "y65zufmXR_B-",
        "outputId": "0be2d902-82e9-49b1-9cf3-0a20a5502e82"
      },
      "source": [
        "fruits = ['orange', 'apple', 'pear', 'banana', 'kiwi', 'apple', 'banana']\n",
        "fruits.count('apple')"
      ],
      "execution_count": null,
      "outputs": [
        {
          "output_type": "execute_result",
          "data": {
            "text/plain": [
              "2"
            ]
          },
          "metadata": {
            "tags": []
          },
          "execution_count": 44
        }
      ]
    },
    {
      "cell_type": "code",
      "metadata": {
        "colab": {
          "base_uri": "https://localhost:8080/"
        },
        "id": "hMtgkv1GTQH9",
        "outputId": "4f4677fa-b928-4c36-8e54-f0962f9165aa"
      },
      "source": [
        "fruits.index('banana')"
      ],
      "execution_count": null,
      "outputs": [
        {
          "output_type": "execute_result",
          "data": {
            "text/plain": [
              "3"
            ]
          },
          "metadata": {
            "tags": []
          },
          "execution_count": 45
        }
      ]
    },
    {
      "cell_type": "code",
      "metadata": {
        "colab": {
          "base_uri": "https://localhost:8080/"
        },
        "id": "qQ-AUS2wTWvg",
        "outputId": "238e4eb9-bdcc-430e-c2e1-47234cb2959a"
      },
      "source": [
        "fruits.index('banana', 4)  # Find next banana starting a position 4"
      ],
      "execution_count": null,
      "outputs": [
        {
          "output_type": "execute_result",
          "data": {
            "text/plain": [
              "6"
            ]
          },
          "metadata": {
            "tags": []
          },
          "execution_count": 46
        }
      ]
    },
    {
      "cell_type": "code",
      "metadata": {
        "colab": {
          "base_uri": "https://localhost:8080/"
        },
        "id": "hS2GM1uMTYYB",
        "outputId": "5a010d40-ede0-4791-c78e-fb2bcb55debe"
      },
      "source": [
        "fruits.reverse() # No return ----\n",
        "fruits"
      ],
      "execution_count": null,
      "outputs": [
        {
          "output_type": "execute_result",
          "data": {
            "text/plain": [
              "['banana', 'apple', 'kiwi', 'banana', 'pear', 'apple', 'orange']"
            ]
          },
          "metadata": {
            "tags": []
          },
          "execution_count": 47
        }
      ]
    },
    {
      "cell_type": "code",
      "metadata": {
        "colab": {
          "base_uri": "https://localhost:8080/"
        },
        "id": "9fasmCHQTiwH",
        "outputId": "784a090b-851c-49a2-9f37-f8237dfe56c4"
      },
      "source": [
        "fruits.sort() # No return ----\n",
        "fruits"
      ],
      "execution_count": null,
      "outputs": [
        {
          "output_type": "execute_result",
          "data": {
            "text/plain": [
              "['apple', 'apple', 'banana', 'banana', 'kiwi', 'orange', 'pear']"
            ]
          },
          "metadata": {
            "tags": []
          },
          "execution_count": 48
        }
      ]
    },
    {
      "cell_type": "code",
      "metadata": {
        "colab": {
          "base_uri": "https://localhost:8080/"
        },
        "id": "KKEuht11T59D",
        "outputId": "47873815-8471-41d4-f1b5-d6a0e0c7ae06"
      },
      "source": [
        "fruits.append('grape') # Add value at the last\n",
        "fruits"
      ],
      "execution_count": null,
      "outputs": [
        {
          "output_type": "execute_result",
          "data": {
            "text/plain": [
              "['apple', 'apple', 'banana', 'banana', 'kiwi', 'orange', 'pear', 'grape']"
            ]
          },
          "metadata": {
            "tags": []
          },
          "execution_count": 49
        }
      ]
    },
    {
      "cell_type": "code",
      "metadata": {
        "colab": {
          "base_uri": "https://localhost:8080/"
        },
        "id": "QsJihNTvUAw1",
        "outputId": "c561c39e-9910-420c-828a-2898f09811cd"
      },
      "source": [
        "fruits.insert(3,'tangerine') # Insert value at the third index\n",
        "print(fruits)"
      ],
      "execution_count": null,
      "outputs": [
        {
          "output_type": "stream",
          "text": [
            "['apple', 'apple', 'banana', 'tangerine', 'tangerine', 'banana', 'kiwi', 'orange', 'pear', 'grape']\n"
          ],
          "name": "stdout"
        }
      ]
    },
    {
      "cell_type": "code",
      "metadata": {
        "colab": {
          "base_uri": "https://localhost:8080/",
          "height": 35
        },
        "id": "H7G6klxqUhJ1",
        "outputId": "abab6057-118b-4505-a0f7-a3c991f4865d"
      },
      "source": [
        "fruits.pop() # -> remove value from the last and return removed value"
      ],
      "execution_count": null,
      "outputs": [
        {
          "output_type": "execute_result",
          "data": {
            "application/vnd.google.colaboratory.intrinsic+json": {
              "type": "string"
            },
            "text/plain": [
              "'grape'"
            ]
          },
          "metadata": {
            "tags": []
          },
          "execution_count": 53
        }
      ]
    },
    {
      "cell_type": "code",
      "metadata": {
        "colab": {
          "base_uri": "https://localhost:8080/"
        },
        "id": "tXwb_RcsUmON",
        "outputId": "39732f6f-159d-4c55-c9a0-afc0a2cd069c"
      },
      "source": [
        "print(fruits)"
      ],
      "execution_count": null,
      "outputs": [
        {
          "output_type": "stream",
          "text": [
            "['apple', 'apple', 'banana', 'tangerine', 'tangerine', 'banana', 'kiwi', 'orange', 'pear']\n"
          ],
          "name": "stdout"
        }
      ]
    },
    {
      "cell_type": "code",
      "metadata": {
        "colab": {
          "base_uri": "https://localhost:8080/",
          "height": 35
        },
        "id": "iTNoa71wUy8A",
        "outputId": "aa83f449-876c-4fbb-ad4b-a59955ebd7c8"
      },
      "source": [
        "fruits.pop(-4) # -> remove value from the -4 index and return removed value"
      ],
      "execution_count": null,
      "outputs": [
        {
          "output_type": "execute_result",
          "data": {
            "application/vnd.google.colaboratory.intrinsic+json": {
              "type": "string"
            },
            "text/plain": [
              "'banana'"
            ]
          },
          "metadata": {
            "tags": []
          },
          "execution_count": 56
        }
      ]
    },
    {
      "cell_type": "code",
      "metadata": {
        "colab": {
          "base_uri": "https://localhost:8080/"
        },
        "id": "tWhP4ugAU5ia",
        "outputId": "08c8d589-2fdf-47c1-eb6e-42fa419091ae"
      },
      "source": [
        "print(fruits)"
      ],
      "execution_count": null,
      "outputs": [
        {
          "output_type": "stream",
          "text": [
            "['apple', 'apple', 'banana', 'tangerine', 'tangerine', 'kiwi', 'orange', 'pear']\n"
          ],
          "name": "stdout"
        }
      ]
    },
    {
      "cell_type": "markdown",
      "metadata": {
        "id": "bogO-q7-VMIZ"
      },
      "source": [
        "### Sets "
      ]
    },
    {
      "cell_type": "code",
      "metadata": {
        "colab": {
          "base_uri": "https://localhost:8080/"
        },
        "id": "KDiAnhu2VLSA",
        "outputId": "a7a264d7-e0e0-4d83-bc60-75aec01de788"
      },
      "source": [
        "basket = {'apple', 'orange', 'apple', 'pear', 'orange', 'banana'}     # also can do --> basket = set(fruits)\n",
        "basket"
      ],
      "execution_count": null,
      "outputs": [
        {
          "output_type": "execute_result",
          "data": {
            "text/plain": [
              "{'apple', 'banana', 'orange', 'pear'}"
            ]
          },
          "metadata": {
            "tags": []
          },
          "execution_count": 58
        }
      ]
    },
    {
      "cell_type": "code",
      "metadata": {
        "colab": {
          "base_uri": "https://localhost:8080/"
        },
        "id": "tBRE7_S-WzWS",
        "outputId": "404bb138-c57c-4f45-d394-014b695f9092"
      },
      "source": [
        "'orange' in basket #?"
      ],
      "execution_count": null,
      "outputs": [
        {
          "output_type": "execute_result",
          "data": {
            "text/plain": [
              "True"
            ]
          },
          "metadata": {
            "tags": []
          },
          "execution_count": 59
        }
      ]
    },
    {
      "cell_type": "markdown",
      "metadata": {
        "id": "ld9N2uf-XIsy"
      },
      "source": [
        "### Tuples"
      ]
    },
    {
      "cell_type": "code",
      "metadata": {
        "colab": {
          "base_uri": "https://localhost:8080/"
        },
        "id": "ILlkgfaWW153",
        "outputId": "0771c7a9-802c-4ff2-ae30-7e6dbf5789ce"
      },
      "source": [
        "t = 12345, 54321, 'hello!'\n",
        "t"
      ],
      "execution_count": null,
      "outputs": [
        {
          "output_type": "execute_result",
          "data": {
            "text/plain": [
              "(12345, 54321, 'hello!')"
            ]
          },
          "metadata": {
            "tags": []
          },
          "execution_count": 60
        }
      ]
    },
    {
      "cell_type": "code",
      "metadata": {
        "colab": {
          "base_uri": "https://localhost:8080/"
        },
        "id": "74_2-kgyXQ95",
        "outputId": "28aaeb2f-2d0d-4e85-edb7-b3edbcdaefdb"
      },
      "source": [
        "# Tuples may be nested:\n",
        "u = t, (1, 2, 3, 4, 5)\n",
        "u"
      ],
      "execution_count": null,
      "outputs": [
        {
          "output_type": "execute_result",
          "data": {
            "text/plain": [
              "((12345, 54321, 'hello!'), (1, 2, 3, 4, 5))"
            ]
          },
          "metadata": {
            "tags": []
          },
          "execution_count": 61
        }
      ]
    },
    {
      "cell_type": "code",
      "metadata": {
        "id": "-D9BEUDOXgzB"
      },
      "source": [
        "# Tuples are immutable:\n",
        "#t[0] = 88888 # Error"
      ],
      "execution_count": null,
      "outputs": []
    },
    {
      "cell_type": "code",
      "metadata": {
        "colab": {
          "base_uri": "https://localhost:8080/"
        },
        "id": "KMfXUwC6XuXZ",
        "outputId": "f64061ff-5ea0-42d7-9215-301d304c7241"
      },
      "source": [
        "# but they can contain mutable objects:\n",
        "v = ([1, 2, 3], [3, 2, 1])\n",
        "v"
      ],
      "execution_count": null,
      "outputs": [
        {
          "output_type": "execute_result",
          "data": {
            "text/plain": [
              "([1, 2, 3], [3, 2, 1])"
            ]
          },
          "metadata": {
            "tags": []
          },
          "execution_count": 68
        }
      ]
    },
    {
      "cell_type": "code",
      "metadata": {
        "colab": {
          "base_uri": "https://localhost:8080/"
        },
        "id": "Lx2MOGEFXyg7",
        "outputId": "c68898e0-690c-4b35-b7b0-701ad2da5db0"
      },
      "source": [
        "v[0][1]=-1\n",
        "v"
      ],
      "execution_count": null,
      "outputs": [
        {
          "output_type": "execute_result",
          "data": {
            "text/plain": [
              "([1, -1, 3], [3, 2, 1])"
            ]
          },
          "metadata": {
            "tags": []
          },
          "execution_count": 69
        }
      ]
    },
    {
      "cell_type": "markdown",
      "metadata": {
        "id": "r2EtcYY2YStH"
      },
      "source": [
        "### Dictionaries"
      ]
    },
    {
      "cell_type": "code",
      "metadata": {
        "colab": {
          "base_uri": "https://localhost:8080/"
        },
        "id": "uyGwHqFNYSYd",
        "outputId": "3bdb8146-cee0-4d4f-e35f-35647e32bf8e"
      },
      "source": [
        "# Here is a small example using a dictionary\n",
        "d={'word1':'meaning',3:'three','two':2,'word1':'one meaning'}\n",
        "d"
      ],
      "execution_count": null,
      "outputs": [
        {
          "output_type": "execute_result",
          "data": {
            "text/plain": [
              "{3: 'three', 'two': 2, 'word1': 'one meaning'}"
            ]
          },
          "metadata": {
            "tags": []
          },
          "execution_count": 70
        }
      ]
    },
    {
      "cell_type": "code",
      "metadata": {
        "colab": {
          "base_uri": "https://localhost:8080/"
        },
        "id": "f3UlIg9KY2AZ",
        "outputId": "a5ff20d7-e134-4036-fe5d-62dd5f49ea33"
      },
      "source": [
        "# the other way\n",
        "d2=dict(key='value',infinite='limitless',three=3)\n",
        "d2"
      ],
      "execution_count": null,
      "outputs": [
        {
          "output_type": "execute_result",
          "data": {
            "text/plain": [
              "{'infinite': 'limitless', 'key': 'value', 'three': 3}"
            ]
          },
          "metadata": {
            "tags": []
          },
          "execution_count": 80
        }
      ]
    },
    {
      "cell_type": "code",
      "metadata": {
        "colab": {
          "base_uri": "https://localhost:8080/"
        },
        "id": "tMoqx9S2aF36",
        "outputId": "7ca5c155-c9a6-4391-d361-324a97186288"
      },
      "source": [
        "# Operations on dict\n",
        "tel = {'jack': 4098, 'sape': 4139}\n",
        "tel"
      ],
      "execution_count": null,
      "outputs": [
        {
          "output_type": "execute_result",
          "data": {
            "text/plain": [
              "{'jack': 4098, 'sape': 4139}"
            ]
          },
          "metadata": {
            "tags": []
          },
          "execution_count": 81
        }
      ]
    },
    {
      "cell_type": "code",
      "metadata": {
        "colab": {
          "base_uri": "https://localhost:8080/"
        },
        "id": "-U1rRvhHaS_a",
        "outputId": "f9655bf0-2c04-489d-ca27-4b0dfab6f3a7"
      },
      "source": [
        "tel['guido'] = 4127 # adding new key value pair\n",
        "tel"
      ],
      "execution_count": null,
      "outputs": [
        {
          "output_type": "execute_result",
          "data": {
            "text/plain": [
              "{'guido': 4127, 'jack': 4098, 'sape': 4139}"
            ]
          },
          "metadata": {
            "tags": []
          },
          "execution_count": 82
        }
      ]
    },
    {
      "cell_type": "code",
      "metadata": {
        "colab": {
          "base_uri": "https://localhost:8080/"
        },
        "id": "sfWMEUvdae3i",
        "outputId": "3fb48a59-db5d-45f5-dd68-368bb47e91b5"
      },
      "source": [
        "'guido' in tel # Key present or not "
      ],
      "execution_count": null,
      "outputs": [
        {
          "output_type": "execute_result",
          "data": {
            "text/plain": [
              "True"
            ]
          },
          "metadata": {
            "tags": []
          },
          "execution_count": 83
        }
      ]
    },
    {
      "cell_type": "code",
      "metadata": {
        "colab": {
          "base_uri": "https://localhost:8080/"
        },
        "id": "0Nfj7rZdavCH",
        "outputId": "fa948c9c-ccce-4a35-f9ed-74e8bafca212"
      },
      "source": [
        "# Get all keys\n",
        "print(tel.keys())\n",
        "# Get all values\n",
        "print(tel.values())"
      ],
      "execution_count": null,
      "outputs": [
        {
          "output_type": "stream",
          "text": [
            "dict_keys(['jack', 'sape', 'guido'])\n",
            "dict_values([4098, 4139, 4127])\n"
          ],
          "name": "stdout"
        }
      ]
    },
    {
      "cell_type": "markdown",
      "metadata": {
        "id": "6veFQfJPbCai"
      },
      "source": [
        "#11. Looping Techniques"
      ]
    },
    {
      "cell_type": "code",
      "metadata": {
        "colab": {
          "base_uri": "https://localhost:8080/"
        },
        "id": "7pyOaPQabKX1",
        "outputId": "d82a3575-70f1-4712-ef76-e652278cb744"
      },
      "source": [
        "basket=['orange', 'apple', 'pear', 'banana', 'kiwi']\n",
        "for fruit in basket:\n",
        "  print(len(fruit),fruit)"
      ],
      "execution_count": null,
      "outputs": [
        {
          "output_type": "stream",
          "text": [
            "6 orange\n",
            "5 apple\n",
            "4 pear\n",
            "6 banana\n",
            "4 kiwi\n"
          ],
          "name": "stdout"
        }
      ]
    },
    {
      "cell_type": "code",
      "metadata": {
        "colab": {
          "base_uri": "https://localhost:8080/"
        },
        "id": "VDc0HVmDdI_7",
        "outputId": "98b56cd0-df06-442b-e81e-050403b615e5"
      },
      "source": [
        "knights = {'gallahad': 'the pure', 'robin': 'the brave'}\n",
        "for key, value in knights.items():\n",
        "  print(key, value)"
      ],
      "execution_count": null,
      "outputs": [
        {
          "output_type": "stream",
          "text": [
            "gallahad the pure\n",
            "robin the brave\n"
          ],
          "name": "stdout"
        }
      ]
    },
    {
      "cell_type": "markdown",
      "metadata": {
        "id": "B8ANr_yhdhMG"
      },
      "source": [
        "When looping through a sequence, the position index and corresponding value can be retrieved at the same time using the enumerate() function."
      ]
    },
    {
      "cell_type": "code",
      "metadata": {
        "colab": {
          "base_uri": "https://localhost:8080/"
        },
        "id": "PQVRfIoDddUP",
        "outputId": "e33f0dac-0106-4c77-d241-33d3652fb3e2"
      },
      "source": [
        "for i, v in enumerate(['tic', 'tac', 'toe']):\n",
        "  print(i, v)"
      ],
      "execution_count": null,
      "outputs": [
        {
          "output_type": "stream",
          "text": [
            "0 tic\n",
            "1 tac\n",
            "2 toe\n"
          ],
          "name": "stdout"
        }
      ]
    },
    {
      "cell_type": "markdown",
      "metadata": {
        "id": "FRgtaFMWpoF7"
      },
      "source": [
        "#12. List vs Strings ?"
      ]
    },
    {
      "cell_type": "code",
      "metadata": {
        "colab": {
          "base_uri": "https://localhost:8080/"
        },
        "id": "_GDyHDI2bH5i",
        "outputId": "69b15e69-9e17-446f-dc62-e6ebaa4566ff"
      },
      "source": [
        "# List \n",
        "for i, v in enumerate(basket,4):\n",
        "  print(i, v)"
      ],
      "execution_count": null,
      "outputs": [
        {
          "output_type": "stream",
          "text": [
            "4 orange\n",
            "5 apple\n",
            "6 pear\n",
            "7 banana\n",
            "8 kiwi\n"
          ],
          "name": "stdout"
        }
      ]
    },
    {
      "cell_type": "code",
      "metadata": {
        "colab": {
          "base_uri": "https://localhost:8080/"
        },
        "id": "NUlOmQ1_d3tf",
        "outputId": "98add9b6-64b7-4ee2-b971-fe36d0a57bbd"
      },
      "source": [
        "# Same for string \n",
        "for i, v in enumerate('python',4):\n",
        "  print(i, v)"
      ],
      "execution_count": null,
      "outputs": [
        {
          "output_type": "stream",
          "text": [
            "4 p\n",
            "5 y\n",
            "6 t\n",
            "7 h\n",
            "8 o\n",
            "9 n\n"
          ],
          "name": "stdout"
        }
      ]
    },
    {
      "cell_type": "code",
      "metadata": {
        "colab": {
          "base_uri": "https://localhost:8080/"
        },
        "id": "IdxliRdYeDqV",
        "outputId": "d98e46ff-3654-45ac-f6d7-5b2a4d1c8d6e"
      },
      "source": [
        "# Diffference\n",
        "word_list,word=list('python'),'python'\n",
        "print('word_list:',word_list)\n",
        "print('word:',word)\n",
        "\n",
        "word_list[0]='C'\n",
        "print('word_list change:',word_list)\n",
        "\n",
        "#word[0]='C' # error!"
      ],
      "execution_count": null,
      "outputs": [
        {
          "output_type": "stream",
          "text": [
            "word_list: ['p', 'y', 't', 'h', 'o', 'n']\n",
            "word: python\n",
            "word_list change: ['C', 'y', 't', 'h', 'o', 'n']\n"
          ],
          "name": "stdout"
        }
      ]
    },
    {
      "cell_type": "markdown",
      "metadata": {
        "id": "DA2jaJeyxkQN"
      },
      "source": [
        "# Reference: \n",
        "* https://www.python.org/\n",
        "* [Docs](https://docs.python.org/3.6/tutorial/index.html)\n",
        "* [Google's Python Class](https://developers.google.com/edu/python)\n",
        "* [Microsoft's Introduction to Python](https://docs.microsoft.com/en-us/learn/modules/intro-to-python/)\n",
        "\n"
      ]
    }
  ]
}